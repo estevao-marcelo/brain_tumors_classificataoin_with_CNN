{
  "cells": [
    {
      "cell_type": "markdown",
      "source": [
        "# Importações e normalização"
      ],
      "metadata": {
        "id": "L9fqvb2RcJai"
      }
    },
    {
      "cell_type": "code",
      "execution_count": null,
      "metadata": {
        "id": "iAL74PcLvKR4",
        "colab": {
          "base_uri": "https://localhost:8080/"
        },
        "outputId": "9f015a95-8e81-4418-a263-8d1e57c2b665"
      },
      "outputs": [
        {
          "output_type": "stream",
          "name": "stdout",
          "text": [
            "Collecting visualkeras\n",
            "  Downloading visualkeras-0.0.2-py3-none-any.whl (12 kB)\n",
            "Requirement already satisfied: pillow>=6.2.0 in /usr/local/lib/python3.10/dist-packages (from visualkeras) (9.4.0)\n",
            "Requirement already satisfied: numpy>=1.18.1 in /usr/local/lib/python3.10/dist-packages (from visualkeras) (1.23.5)\n",
            "Collecting aggdraw>=1.3.11 (from visualkeras)\n",
            "  Downloading aggdraw-1.3.18-cp310-cp310-manylinux_2_17_x86_64.manylinux2014_x86_64.whl (993 kB)\n",
            "\u001b[2K     \u001b[90m━━━━━━━━━━━━━━━━━━━━━━━━━━━━━━━━━━━━━━━━\u001b[0m \u001b[32m993.7/993.7 kB\u001b[0m \u001b[31m7.1 MB/s\u001b[0m eta \u001b[36m0:00:00\u001b[0m\n",
            "\u001b[?25hInstalling collected packages: aggdraw, visualkeras\n",
            "Successfully installed aggdraw-1.3.18 visualkeras-0.0.2\n"
          ]
        }
      ],
      "source": [
        "# Importing the necessary models\n",
        "import glob\n",
        "import os\n",
        "import numpy as np\n",
        "import pandas as pan\n",
        "import matplotlib.pyplot as plotter\n",
        "import seaborn as sns\n",
        "import tensorflow as tf\n",
        "import cv2\n",
        "import matplotlib.pyplot as plt\n",
        "from sklearn.model_selection import train_test_split\n",
        "from tensorflow.keras.layers import Dense, Conv2D, MaxPool2D, Flatten, Dropout, BatchNormalization, ZeroPadding2D, LeakyReLU\n",
        "from tensorflow.keras.optimizers import Adam, SGD, RMSprop, Adadelta, Nadam\n",
        "from tensorflow.keras.models import Sequential\n",
        "from tensorflow.keras.callbacks import ReduceLROnPlateau, EarlyStopping\n",
        "from tensorflow.keras.preprocessing.image import ImageDataGenerator, array_to_img, img_to_array, load_img\n",
        "from skimage import exposure, img_as_float, img_as_ubyte\n",
        "from sklearn.metrics import confusion_matrix\n",
        "from google.colab import files\n",
        "\n",
        "!pip install visualkeras\n",
        "\n",
        "import visualkeras\n",
        "from collections import defaultdict"
      ]
    },
    {
      "cell_type": "code",
      "execution_count": null,
      "metadata": {
        "colab": {
          "base_uri": "https://localhost:8080/",
          "height": 316
        },
        "id": "M1G2XYCXWdmS",
        "outputId": "5844b3e3-f151-42df-80a0-ab03596f1889"
      },
      "outputs": [
        {
          "output_type": "stream",
          "name": "stdout",
          "text": [
            "Requirement already satisfied: kaggle in /usr/local/lib/python3.10/dist-packages (1.5.16)\n",
            "Requirement already satisfied: six>=1.10 in /usr/local/lib/python3.10/dist-packages (from kaggle) (1.16.0)\n",
            "Requirement already satisfied: certifi in /usr/local/lib/python3.10/dist-packages (from kaggle) (2023.11.17)\n",
            "Requirement already satisfied: python-dateutil in /usr/local/lib/python3.10/dist-packages (from kaggle) (2.8.2)\n",
            "Requirement already satisfied: requests in /usr/local/lib/python3.10/dist-packages (from kaggle) (2.31.0)\n",
            "Requirement already satisfied: tqdm in /usr/local/lib/python3.10/dist-packages (from kaggle) (4.66.1)\n",
            "Requirement already satisfied: python-slugify in /usr/local/lib/python3.10/dist-packages (from kaggle) (8.0.1)\n",
            "Requirement already satisfied: urllib3 in /usr/local/lib/python3.10/dist-packages (from kaggle) (2.0.7)\n",
            "Requirement already satisfied: bleach in /usr/local/lib/python3.10/dist-packages (from kaggle) (6.1.0)\n",
            "Requirement already satisfied: webencodings in /usr/local/lib/python3.10/dist-packages (from bleach->kaggle) (0.5.1)\n",
            "Requirement already satisfied: text-unidecode>=1.3 in /usr/local/lib/python3.10/dist-packages (from python-slugify->kaggle) (1.3)\n",
            "Requirement already satisfied: charset-normalizer<4,>=2 in /usr/local/lib/python3.10/dist-packages (from requests->kaggle) (3.3.2)\n",
            "Requirement already satisfied: idna<4,>=2.5 in /usr/local/lib/python3.10/dist-packages (from requests->kaggle) (3.6)\n"
          ]
        },
        {
          "output_type": "display_data",
          "data": {
            "text/plain": [
              "<IPython.core.display.HTML object>"
            ],
            "text/html": [
              "\n",
              "     <input type=\"file\" id=\"files-7fc01f74-cebb-4a38-8415-6b44b32d541e\" name=\"files[]\" multiple disabled\n",
              "        style=\"border:none\" />\n",
              "     <output id=\"result-7fc01f74-cebb-4a38-8415-6b44b32d541e\">\n",
              "      Upload widget is only available when the cell has been executed in the\n",
              "      current browser session. Please rerun this cell to enable.\n",
              "      </output>\n",
              "      <script>// Copyright 2017 Google LLC\n",
              "//\n",
              "// Licensed under the Apache License, Version 2.0 (the \"License\");\n",
              "// you may not use this file except in compliance with the License.\n",
              "// You may obtain a copy of the License at\n",
              "//\n",
              "//      http://www.apache.org/licenses/LICENSE-2.0\n",
              "//\n",
              "// Unless required by applicable law or agreed to in writing, software\n",
              "// distributed under the License is distributed on an \"AS IS\" BASIS,\n",
              "// WITHOUT WARRANTIES OR CONDITIONS OF ANY KIND, either express or implied.\n",
              "// See the License for the specific language governing permissions and\n",
              "// limitations under the License.\n",
              "\n",
              "/**\n",
              " * @fileoverview Helpers for google.colab Python module.\n",
              " */\n",
              "(function(scope) {\n",
              "function span(text, styleAttributes = {}) {\n",
              "  const element = document.createElement('span');\n",
              "  element.textContent = text;\n",
              "  for (const key of Object.keys(styleAttributes)) {\n",
              "    element.style[key] = styleAttributes[key];\n",
              "  }\n",
              "  return element;\n",
              "}\n",
              "\n",
              "// Max number of bytes which will be uploaded at a time.\n",
              "const MAX_PAYLOAD_SIZE = 100 * 1024;\n",
              "\n",
              "function _uploadFiles(inputId, outputId) {\n",
              "  const steps = uploadFilesStep(inputId, outputId);\n",
              "  const outputElement = document.getElementById(outputId);\n",
              "  // Cache steps on the outputElement to make it available for the next call\n",
              "  // to uploadFilesContinue from Python.\n",
              "  outputElement.steps = steps;\n",
              "\n",
              "  return _uploadFilesContinue(outputId);\n",
              "}\n",
              "\n",
              "// This is roughly an async generator (not supported in the browser yet),\n",
              "// where there are multiple asynchronous steps and the Python side is going\n",
              "// to poll for completion of each step.\n",
              "// This uses a Promise to block the python side on completion of each step,\n",
              "// then passes the result of the previous step as the input to the next step.\n",
              "function _uploadFilesContinue(outputId) {\n",
              "  const outputElement = document.getElementById(outputId);\n",
              "  const steps = outputElement.steps;\n",
              "\n",
              "  const next = steps.next(outputElement.lastPromiseValue);\n",
              "  return Promise.resolve(next.value.promise).then((value) => {\n",
              "    // Cache the last promise value to make it available to the next\n",
              "    // step of the generator.\n",
              "    outputElement.lastPromiseValue = value;\n",
              "    return next.value.response;\n",
              "  });\n",
              "}\n",
              "\n",
              "/**\n",
              " * Generator function which is called between each async step of the upload\n",
              " * process.\n",
              " * @param {string} inputId Element ID of the input file picker element.\n",
              " * @param {string} outputId Element ID of the output display.\n",
              " * @return {!Iterable<!Object>} Iterable of next steps.\n",
              " */\n",
              "function* uploadFilesStep(inputId, outputId) {\n",
              "  const inputElement = document.getElementById(inputId);\n",
              "  inputElement.disabled = false;\n",
              "\n",
              "  const outputElement = document.getElementById(outputId);\n",
              "  outputElement.innerHTML = '';\n",
              "\n",
              "  const pickedPromise = new Promise((resolve) => {\n",
              "    inputElement.addEventListener('change', (e) => {\n",
              "      resolve(e.target.files);\n",
              "    });\n",
              "  });\n",
              "\n",
              "  const cancel = document.createElement('button');\n",
              "  inputElement.parentElement.appendChild(cancel);\n",
              "  cancel.textContent = 'Cancel upload';\n",
              "  const cancelPromise = new Promise((resolve) => {\n",
              "    cancel.onclick = () => {\n",
              "      resolve(null);\n",
              "    };\n",
              "  });\n",
              "\n",
              "  // Wait for the user to pick the files.\n",
              "  const files = yield {\n",
              "    promise: Promise.race([pickedPromise, cancelPromise]),\n",
              "    response: {\n",
              "      action: 'starting',\n",
              "    }\n",
              "  };\n",
              "\n",
              "  cancel.remove();\n",
              "\n",
              "  // Disable the input element since further picks are not allowed.\n",
              "  inputElement.disabled = true;\n",
              "\n",
              "  if (!files) {\n",
              "    return {\n",
              "      response: {\n",
              "        action: 'complete',\n",
              "      }\n",
              "    };\n",
              "  }\n",
              "\n",
              "  for (const file of files) {\n",
              "    const li = document.createElement('li');\n",
              "    li.append(span(file.name, {fontWeight: 'bold'}));\n",
              "    li.append(span(\n",
              "        `(${file.type || 'n/a'}) - ${file.size} bytes, ` +\n",
              "        `last modified: ${\n",
              "            file.lastModifiedDate ? file.lastModifiedDate.toLocaleDateString() :\n",
              "                                    'n/a'} - `));\n",
              "    const percent = span('0% done');\n",
              "    li.appendChild(percent);\n",
              "\n",
              "    outputElement.appendChild(li);\n",
              "\n",
              "    const fileDataPromise = new Promise((resolve) => {\n",
              "      const reader = new FileReader();\n",
              "      reader.onload = (e) => {\n",
              "        resolve(e.target.result);\n",
              "      };\n",
              "      reader.readAsArrayBuffer(file);\n",
              "    });\n",
              "    // Wait for the data to be ready.\n",
              "    let fileData = yield {\n",
              "      promise: fileDataPromise,\n",
              "      response: {\n",
              "        action: 'continue',\n",
              "      }\n",
              "    };\n",
              "\n",
              "    // Use a chunked sending to avoid message size limits. See b/62115660.\n",
              "    let position = 0;\n",
              "    do {\n",
              "      const length = Math.min(fileData.byteLength - position, MAX_PAYLOAD_SIZE);\n",
              "      const chunk = new Uint8Array(fileData, position, length);\n",
              "      position += length;\n",
              "\n",
              "      const base64 = btoa(String.fromCharCode.apply(null, chunk));\n",
              "      yield {\n",
              "        response: {\n",
              "          action: 'append',\n",
              "          file: file.name,\n",
              "          data: base64,\n",
              "        },\n",
              "      };\n",
              "\n",
              "      let percentDone = fileData.byteLength === 0 ?\n",
              "          100 :\n",
              "          Math.round((position / fileData.byteLength) * 100);\n",
              "      percent.textContent = `${percentDone}% done`;\n",
              "\n",
              "    } while (position < fileData.byteLength);\n",
              "  }\n",
              "\n",
              "  // All done.\n",
              "  yield {\n",
              "    response: {\n",
              "      action: 'complete',\n",
              "    }\n",
              "  };\n",
              "}\n",
              "\n",
              "scope.google = scope.google || {};\n",
              "scope.google.colab = scope.google.colab || {};\n",
              "scope.google.colab._files = {\n",
              "  _uploadFiles,\n",
              "  _uploadFilesContinue,\n",
              "};\n",
              "})(self);\n",
              "</script> "
            ]
          },
          "metadata": {}
        },
        {
          "output_type": "stream",
          "name": "stdout",
          "text": [
            "Saving kaggle.json to kaggle.json\n",
            "User uploaded file \"kaggle.json\" with length 70 bytes\n"
          ]
        }
      ],
      "source": [
        "# Fazer esse processo apenas uma vez, depois comentar\n",
        "# # Instala o kaggle\n",
        "!pip install kaggle\n",
        "\n",
        "uploaded = files.upload()\n",
        "\n",
        "for fn in uploaded.keys():\n",
        "  print('User uploaded file \"{name}\" with length {length} bytes'.format(\n",
        "      name=fn, length=len(uploaded[fn])))\n",
        "\n",
        "# Then move kaggle.json into the folder where the API expects to find it.\n",
        "!mkdir -p ~/.kaggle/ && mv kaggle.json ~/.kaggle/ && chmod 600 ~/.kaggle/kaggle.json"
      ]
    },
    {
      "cell_type": "code",
      "source": [
        "!kaggle datasets download -d \"thomasdubail/brain-tumors-256x256\""
      ],
      "metadata": {
        "colab": {
          "base_uri": "https://localhost:8080/"
        },
        "id": "4RurAY_7ULPj",
        "outputId": "73aac949-b9d1-4892-805a-1e6d1a339378"
      },
      "execution_count": null,
      "outputs": [
        {
          "output_type": "stream",
          "name": "stdout",
          "text": [
            "Downloading brain-tumors-256x256.zip to /content\n",
            " 98% 58.0M/59.4M [00:00<00:00, 87.1MB/s]\n",
            "100% 59.4M/59.4M [00:00<00:00, 73.1MB/s]\n"
          ]
        }
      ]
    },
    {
      "cell_type": "code",
      "execution_count": null,
      "metadata": {
        "id": "-B3oa3V8vxU2"
      },
      "outputs": [],
      "source": [
        "# Fazer esse processo apenas uma vez, depois comentar\n",
        "# Cria um diretório (Dataset) e descompacta os dados dentro\n",
        "!mkdir Dataset\n",
        "!cp /content/brain-tumors-256x256.zip /content/Dataset/brain-tumors-256x256.zip\n",
        "!unzip -q /content/Dataset/brain-tumors-256x256.zip -d /content/Dataset\n",
        "!rm /content/brain-tumors-256x256.zip"
      ]
    },
    {
      "cell_type": "code",
      "execution_count": null,
      "metadata": {
        "colab": {
          "base_uri": "https://localhost:8080/",
          "height": 206
        },
        "id": "zaGT3ZrswePN",
        "outputId": "dcdefdee-e6d2-4779-be6f-f8d84b87db09"
      },
      "outputs": [
        {
          "output_type": "execute_result",
          "data": {
            "text/plain": [
              "                                     Image             Label\n",
              "0  Dataset/Data/meningioma_tumor/M_606.jpg  meningioma_tumor\n",
              "1   Dataset/Data/pituitary_tumor/P_844.jpg   pituitary_tumor\n",
              "2  Dataset/Data/meningioma_tumor/M_362.jpg  meningioma_tumor\n",
              "3   Dataset/Data/pituitary_tumor/P_266.jpg   pituitary_tumor\n",
              "4       Dataset/Data/glioma_tumor/G_39.jpg      glioma_tumor"
            ],
            "text/html": [
              "\n",
              "  <div id=\"df-1d48b6f8-3c7c-4be4-9e09-7a307b0eadff\" class=\"colab-df-container\">\n",
              "    <div>\n",
              "<style scoped>\n",
              "    .dataframe tbody tr th:only-of-type {\n",
              "        vertical-align: middle;\n",
              "    }\n",
              "\n",
              "    .dataframe tbody tr th {\n",
              "        vertical-align: top;\n",
              "    }\n",
              "\n",
              "    .dataframe thead th {\n",
              "        text-align: right;\n",
              "    }\n",
              "</style>\n",
              "<table border=\"1\" class=\"dataframe\">\n",
              "  <thead>\n",
              "    <tr style=\"text-align: right;\">\n",
              "      <th></th>\n",
              "      <th>Image</th>\n",
              "      <th>Label</th>\n",
              "    </tr>\n",
              "  </thead>\n",
              "  <tbody>\n",
              "    <tr>\n",
              "      <th>0</th>\n",
              "      <td>Dataset/Data/meningioma_tumor/M_606.jpg</td>\n",
              "      <td>meningioma_tumor</td>\n",
              "    </tr>\n",
              "    <tr>\n",
              "      <th>1</th>\n",
              "      <td>Dataset/Data/pituitary_tumor/P_844.jpg</td>\n",
              "      <td>pituitary_tumor</td>\n",
              "    </tr>\n",
              "    <tr>\n",
              "      <th>2</th>\n",
              "      <td>Dataset/Data/meningioma_tumor/M_362.jpg</td>\n",
              "      <td>meningioma_tumor</td>\n",
              "    </tr>\n",
              "    <tr>\n",
              "      <th>3</th>\n",
              "      <td>Dataset/Data/pituitary_tumor/P_266.jpg</td>\n",
              "      <td>pituitary_tumor</td>\n",
              "    </tr>\n",
              "    <tr>\n",
              "      <th>4</th>\n",
              "      <td>Dataset/Data/glioma_tumor/G_39.jpg</td>\n",
              "      <td>glioma_tumor</td>\n",
              "    </tr>\n",
              "  </tbody>\n",
              "</table>\n",
              "</div>\n",
              "    <div class=\"colab-df-buttons\">\n",
              "\n",
              "  <div class=\"colab-df-container\">\n",
              "    <button class=\"colab-df-convert\" onclick=\"convertToInteractive('df-1d48b6f8-3c7c-4be4-9e09-7a307b0eadff')\"\n",
              "            title=\"Convert this dataframe to an interactive table.\"\n",
              "            style=\"display:none;\">\n",
              "\n",
              "  <svg xmlns=\"http://www.w3.org/2000/svg\" height=\"24px\" viewBox=\"0 -960 960 960\">\n",
              "    <path d=\"M120-120v-720h720v720H120Zm60-500h600v-160H180v160Zm220 220h160v-160H400v160Zm0 220h160v-160H400v160ZM180-400h160v-160H180v160Zm440 0h160v-160H620v160ZM180-180h160v-160H180v160Zm440 0h160v-160H620v160Z\"/>\n",
              "  </svg>\n",
              "    </button>\n",
              "\n",
              "  <style>\n",
              "    .colab-df-container {\n",
              "      display:flex;\n",
              "      gap: 12px;\n",
              "    }\n",
              "\n",
              "    .colab-df-convert {\n",
              "      background-color: #E8F0FE;\n",
              "      border: none;\n",
              "      border-radius: 50%;\n",
              "      cursor: pointer;\n",
              "      display: none;\n",
              "      fill: #1967D2;\n",
              "      height: 32px;\n",
              "      padding: 0 0 0 0;\n",
              "      width: 32px;\n",
              "    }\n",
              "\n",
              "    .colab-df-convert:hover {\n",
              "      background-color: #E2EBFA;\n",
              "      box-shadow: 0px 1px 2px rgba(60, 64, 67, 0.3), 0px 1px 3px 1px rgba(60, 64, 67, 0.15);\n",
              "      fill: #174EA6;\n",
              "    }\n",
              "\n",
              "    .colab-df-buttons div {\n",
              "      margin-bottom: 4px;\n",
              "    }\n",
              "\n",
              "    [theme=dark] .colab-df-convert {\n",
              "      background-color: #3B4455;\n",
              "      fill: #D2E3FC;\n",
              "    }\n",
              "\n",
              "    [theme=dark] .colab-df-convert:hover {\n",
              "      background-color: #434B5C;\n",
              "      box-shadow: 0px 1px 3px 1px rgba(0, 0, 0, 0.15);\n",
              "      filter: drop-shadow(0px 1px 2px rgba(0, 0, 0, 0.3));\n",
              "      fill: #FFFFFF;\n",
              "    }\n",
              "  </style>\n",
              "\n",
              "    <script>\n",
              "      const buttonEl =\n",
              "        document.querySelector('#df-1d48b6f8-3c7c-4be4-9e09-7a307b0eadff button.colab-df-convert');\n",
              "      buttonEl.style.display =\n",
              "        google.colab.kernel.accessAllowed ? 'block' : 'none';\n",
              "\n",
              "      async function convertToInteractive(key) {\n",
              "        const element = document.querySelector('#df-1d48b6f8-3c7c-4be4-9e09-7a307b0eadff');\n",
              "        const dataTable =\n",
              "          await google.colab.kernel.invokeFunction('convertToInteractive',\n",
              "                                                    [key], {});\n",
              "        if (!dataTable) return;\n",
              "\n",
              "        const docLinkHtml = 'Like what you see? Visit the ' +\n",
              "          '<a target=\"_blank\" href=https://colab.research.google.com/notebooks/data_table.ipynb>data table notebook</a>'\n",
              "          + ' to learn more about interactive tables.';\n",
              "        element.innerHTML = '';\n",
              "        dataTable['output_type'] = 'display_data';\n",
              "        await google.colab.output.renderOutput(dataTable, element);\n",
              "        const docLink = document.createElement('div');\n",
              "        docLink.innerHTML = docLinkHtml;\n",
              "        element.appendChild(docLink);\n",
              "      }\n",
              "    </script>\n",
              "  </div>\n",
              "\n",
              "\n",
              "<div id=\"df-21588a0c-4491-4395-bd89-f0057ab878c2\">\n",
              "  <button class=\"colab-df-quickchart\" onclick=\"quickchart('df-21588a0c-4491-4395-bd89-f0057ab878c2')\"\n",
              "            title=\"Suggest charts\"\n",
              "            style=\"display:none;\">\n",
              "\n",
              "<svg xmlns=\"http://www.w3.org/2000/svg\" height=\"24px\"viewBox=\"0 0 24 24\"\n",
              "     width=\"24px\">\n",
              "    <g>\n",
              "        <path d=\"M19 3H5c-1.1 0-2 .9-2 2v14c0 1.1.9 2 2 2h14c1.1 0 2-.9 2-2V5c0-1.1-.9-2-2-2zM9 17H7v-7h2v7zm4 0h-2V7h2v10zm4 0h-2v-4h2v4z\"/>\n",
              "    </g>\n",
              "</svg>\n",
              "  </button>\n",
              "\n",
              "<style>\n",
              "  .colab-df-quickchart {\n",
              "      --bg-color: #E8F0FE;\n",
              "      --fill-color: #1967D2;\n",
              "      --hover-bg-color: #E2EBFA;\n",
              "      --hover-fill-color: #174EA6;\n",
              "      --disabled-fill-color: #AAA;\n",
              "      --disabled-bg-color: #DDD;\n",
              "  }\n",
              "\n",
              "  [theme=dark] .colab-df-quickchart {\n",
              "      --bg-color: #3B4455;\n",
              "      --fill-color: #D2E3FC;\n",
              "      --hover-bg-color: #434B5C;\n",
              "      --hover-fill-color: #FFFFFF;\n",
              "      --disabled-bg-color: #3B4455;\n",
              "      --disabled-fill-color: #666;\n",
              "  }\n",
              "\n",
              "  .colab-df-quickchart {\n",
              "    background-color: var(--bg-color);\n",
              "    border: none;\n",
              "    border-radius: 50%;\n",
              "    cursor: pointer;\n",
              "    display: none;\n",
              "    fill: var(--fill-color);\n",
              "    height: 32px;\n",
              "    padding: 0;\n",
              "    width: 32px;\n",
              "  }\n",
              "\n",
              "  .colab-df-quickchart:hover {\n",
              "    background-color: var(--hover-bg-color);\n",
              "    box-shadow: 0 1px 2px rgba(60, 64, 67, 0.3), 0 1px 3px 1px rgba(60, 64, 67, 0.15);\n",
              "    fill: var(--button-hover-fill-color);\n",
              "  }\n",
              "\n",
              "  .colab-df-quickchart-complete:disabled,\n",
              "  .colab-df-quickchart-complete:disabled:hover {\n",
              "    background-color: var(--disabled-bg-color);\n",
              "    fill: var(--disabled-fill-color);\n",
              "    box-shadow: none;\n",
              "  }\n",
              "\n",
              "  .colab-df-spinner {\n",
              "    border: 2px solid var(--fill-color);\n",
              "    border-color: transparent;\n",
              "    border-bottom-color: var(--fill-color);\n",
              "    animation:\n",
              "      spin 1s steps(1) infinite;\n",
              "  }\n",
              "\n",
              "  @keyframes spin {\n",
              "    0% {\n",
              "      border-color: transparent;\n",
              "      border-bottom-color: var(--fill-color);\n",
              "      border-left-color: var(--fill-color);\n",
              "    }\n",
              "    20% {\n",
              "      border-color: transparent;\n",
              "      border-left-color: var(--fill-color);\n",
              "      border-top-color: var(--fill-color);\n",
              "    }\n",
              "    30% {\n",
              "      border-color: transparent;\n",
              "      border-left-color: var(--fill-color);\n",
              "      border-top-color: var(--fill-color);\n",
              "      border-right-color: var(--fill-color);\n",
              "    }\n",
              "    40% {\n",
              "      border-color: transparent;\n",
              "      border-right-color: var(--fill-color);\n",
              "      border-top-color: var(--fill-color);\n",
              "    }\n",
              "    60% {\n",
              "      border-color: transparent;\n",
              "      border-right-color: var(--fill-color);\n",
              "    }\n",
              "    80% {\n",
              "      border-color: transparent;\n",
              "      border-right-color: var(--fill-color);\n",
              "      border-bottom-color: var(--fill-color);\n",
              "    }\n",
              "    90% {\n",
              "      border-color: transparent;\n",
              "      border-bottom-color: var(--fill-color);\n",
              "    }\n",
              "  }\n",
              "</style>\n",
              "\n",
              "  <script>\n",
              "    async function quickchart(key) {\n",
              "      const quickchartButtonEl =\n",
              "        document.querySelector('#' + key + ' button');\n",
              "      quickchartButtonEl.disabled = true;  // To prevent multiple clicks.\n",
              "      quickchartButtonEl.classList.add('colab-df-spinner');\n",
              "      try {\n",
              "        const charts = await google.colab.kernel.invokeFunction(\n",
              "            'suggestCharts', [key], {});\n",
              "      } catch (error) {\n",
              "        console.error('Error during call to suggestCharts:', error);\n",
              "      }\n",
              "      quickchartButtonEl.classList.remove('colab-df-spinner');\n",
              "      quickchartButtonEl.classList.add('colab-df-quickchart-complete');\n",
              "    }\n",
              "    (() => {\n",
              "      let quickchartButtonEl =\n",
              "        document.querySelector('#df-21588a0c-4491-4395-bd89-f0057ab878c2 button');\n",
              "      quickchartButtonEl.style.display =\n",
              "        google.colab.kernel.accessAllowed ? 'block' : 'none';\n",
              "    })();\n",
              "  </script>\n",
              "</div>\n",
              "\n",
              "    </div>\n",
              "  </div>\n"
            ]
          },
          "metadata": {},
          "execution_count": 5
        }
      ],
      "source": [
        "dir = \"Dataset/Data\"\n",
        "files = [i for i in glob.glob(dir + \"//*//*\")]\n",
        "np.random.shuffle(files)\n",
        "labels = [os.path.dirname(i).split(\"/\")[-1] for i in files]\n",
        "data = zip(files, labels)\n",
        "dataframe = pan.DataFrame(data, columns = [\"Image\", \"Label\"])\n",
        "\n",
        "dataframe.head()"
      ]
    },
    {
      "cell_type": "code",
      "execution_count": null,
      "metadata": {
        "colab": {
          "base_uri": "https://localhost:8080/",
          "height": 398
        },
        "id": "tx5didWEIQtO",
        "outputId": "b2a1df33-ddbb-42ed-db85-695098da7a00"
      },
      "outputs": [
        {
          "output_type": "display_data",
          "data": {
            "text/plain": [
              "<Figure size 800x400 with 1 Axes>"
            ],
            "image/png": "[encoded data removed]"
          },
          "metadata": {}
        }
      ],
      "source": [
        "# Quantidade de classes\n",
        "classes = dataframe['Label'].unique()\n",
        "\n",
        "# Quantidade de imagens em cada classe\n",
        "qnt_imagens_por_classe = dataframe['Label'].value_counts()\n",
        "\n",
        "# Criar figura e eixo\n",
        "fig, ax = plt.subplots()\n",
        "\n",
        "# Plotar gráfico de barras\n",
        "barras = ax.bar(classes, qnt_imagens_por_classe, color=(('b','g','r','c')))\n",
        "# Adicionar rótulos de dados nas barras\n",
        "for bar, label in zip(barras, qnt_imagens_por_classe):\n",
        "    height = bar.get_height()\n",
        "    ax.text(bar.get_x() + bar.get_width() / 2, height+25, label,\n",
        "            ha='center', va='bottom', fontsize=12)\n",
        "\n",
        "# Limitar o eixo y\n",
        "ax.set_ylim(00, 1050)\n",
        "\n",
        "# Adicionar rótulos e título\n",
        "ax.set_xlabel('Classes', fontsize=15)\n",
        "ax.set_ylabel('Quantidade', fontsize=15)\n",
        "\n",
        "# Definir tamanho da figura\n",
        "fig.set_size_inches(8, 4)\n",
        "\n",
        "# Modificar o tamanho da fonte nos rótulos dos ticks do eixo x e y\n",
        "ax.tick_params(axis='x', labelsize=12)\n",
        "ax.tick_params(axis='y', labelsize=12)\n",
        "\n",
        "# Exibir o gráfico\n",
        "plt.show()"
      ]
    },
    {
      "cell_type": "code",
      "execution_count": null,
      "metadata": {
        "colab": {
          "base_uri": "https://localhost:8080/",
          "height": 470
        },
        "id": "DL7_Qd9LITlA",
        "outputId": "e6723e23-5900-4e71-8024-a8e54f75b008"
      },
      "outputs": [
        {
          "output_type": "stream",
          "name": "stdout",
          "text": [
            "meningioma_tumor\n"
          ]
        },
        {
          "output_type": "execute_result",
          "data": {
            "text/plain": [
              "<matplotlib.image.AxesImage at 0x7df1d1774c40>"
            ]
          },
          "metadata": {},
          "execution_count": 7
        },
        {
          "output_type": "display_data",
          "data": {
            "text/plain": [
              "<Figure size 640x480 with 1 Axes>"
            ],
            "image/png": "[encoded data removed]"
          },
          "metadata": {}
        }
      ],
      "source": [
        "print(dataframe[\"Label\"].iloc[0])\n",
        "array = plotter.imread(dataframe[\"Image\"].iloc[0])\n",
        "plotter.imshow(array)"
      ]
    },
    {
      "cell_type": "code",
      "execution_count": null,
      "metadata": {
        "id": "tJ1RifHCIX4J"
      },
      "outputs": [],
      "source": [
        "mappings = {k: i for i, k in enumerate(dataframe[\"Label\"].unique())}\n",
        "\n",
        "# Preprocessamento\n",
        "features = dataframe[\"Image\"].values\n",
        "label = dataframe[\"Label\"].map(mappings).values\n",
        "\n",
        "# Divisão dos dados em 80/20\n",
        "feature_train, feature_test, label_train, label_test = train_test_split(features, label, test_size = 0.2)\n",
        "\n",
        "train_dataset = tf.data.Dataset.from_tensor_slices((feature_train, label_train))\n",
        "test_dataset = tf.data.Dataset.from_tensor_slices((feature_test, label_test))\n",
        "\n",
        "def preprocessor(image, label):\n",
        "  image = tf.io.read_file(image)\n",
        "  image = tf.io.decode_image(image, channels = 1, expand_animations = False) # Decodifica a imagem\n",
        "  image = tf.image.resize(image, (256, 256)) # Redimenciona a imangem para o formato 256x256 pixels\n",
        "  return image/255, tf.one_hot(label, depth = 4) # Normaliza a imagem\n",
        "\n",
        "train_dataset = train_dataset.map(preprocessor)\n",
        "test_dataset = test_dataset.map(preprocessor)\n",
        "\n",
        "\n",
        "train_dataset_loader = train_dataset.batch(128).shuffle(64).prefetch(64)\n",
        "test_dataset_loader = test_dataset.batch(128).shuffle(128).prefetch(128)"
      ]
    },
    {
      "cell_type": "markdown",
      "source": [
        "# Sigmoid 32"
      ],
      "metadata": {
        "id": "Vm3V0c4oa8ff"
      }
    },
    {
      "cell_type": "code",
      "execution_count": null,
      "metadata": {
        "id": "3AgG5S5qIgSj",
        "colab": {
          "base_uri": "https://localhost:8080/"
        },
        "outputId": "62a07018-74b2-4f4c-c100-cc01b4d20038"
      },
      "outputs": [
        {
          "output_type": "stream",
          "name": "stdout",
          "text": [
            "Epoch 1/50\n"
          ]
        }
      ],
      "source": [
        "# Uso de callback para reduzir o overfitting\n",
        "callback_one = EarlyStopping(patience = 50, restore_best_weights = True)\n",
        "callback_two = ReduceLROnPlateau(patience = 40)\n",
        "\n",
        "\n",
        "model = Sequential()\n",
        "model.add(Conv2D(32, (3, 3), input_shape = (256, 256, 1), activation = 'relu'))\n",
        "model.add(MaxPool2D((2, 2)))\n",
        "model.add(Conv2D(64, (3, 3), activation = 'relu'))\n",
        "model.add(MaxPool2D((2, 2)))\n",
        "model.add(Conv2D(128, (3, 3), activation = 'relu'))\n",
        "model.add(MaxPool2D((2, 2)))\n",
        "model.add(Dropout(0.1))\n",
        "model.add(Conv2D(256, (3, 3), activation = 'relu'))\n",
        "model.add(MaxPool2D((2, 2)))\n",
        "model.add(Flatten())\n",
        "model.add(Dense(32, activation = 'sigmoid'))\n",
        "model.add(Dense(4, activation = \"softmax\"))\n",
        "model.compile(loss=\"categorical_crossentropy\", metrics=[\"accuracy\"])\n",
        "# model.summary()\n",
        "\n",
        "history = model.fit(\n",
        "    train_dataset_loader,\n",
        "    validation_data = test_dataset_loader,\n",
        "    callbacks=[callback_one, callback_one],\n",
        "    batch_size = None,\n",
        "    epochs=50)"
      ]
    },
    {
      "cell_type": "code",
      "execution_count": null,
      "metadata": {
        "id": "9RGwn1pzAf62"
      },
      "outputs": [],
      "source": [
        "model.evaluate(test_dataset_loader)"
      ]
    },
    {
      "cell_type": "code",
      "execution_count": null,
      "metadata": {
        "id": "Ioea51QjJOur"
      },
      "outputs": [],
      "source": [
        "plt.style.use('default')\n",
        "plt.figure(figsize=(12,10))\n",
        "plt.subplot(2,2,1)\n",
        "plt.plot(history.history['accuracy'])\n",
        "plt.plot(history.history['val_accuracy'])\n",
        "plt.title('Acurácia')\n",
        "plt.ylabel('Acurácia')\n",
        "plt.xlabel('Épocas')\n",
        "plt.legend(['Treinamento','Validação'], loc='lower right')\n",
        "plt.subplot(2,2,2)\n",
        "plt.plot(history.history['loss'])\n",
        "plt.plot(history.history['val_loss'])\n",
        "plt.title('Função de perda')\n",
        "plt.ylabel('loss')\n",
        "plt.xlabel('Época')\n",
        "plt.legend(['Treinamento','Validação'], loc='upper right')"
      ]
    },
    {
      "cell_type": "code",
      "execution_count": null,
      "metadata": {
        "id": "e3KVzNfNtYdp"
      },
      "outputs": [],
      "source": [
        "# Fazer previsões usando o conjunto de teste\n",
        "y_true = np.concatenate([y.numpy() for _, y in test_dataset_loader], axis=0)\n",
        "y_pred_probs = model.predict(test_dataset_loader)\n",
        "y_pred = np.argmax(y_pred_probs, axis=1)\n",
        "\n",
        "# Converter os rótulos one-hot de volta para classes numéricas\n",
        "y_true_classes = np.argmax(y_true, axis=1)\n",
        "\n",
        "# Calcular a matriz de confusão\n",
        "conf_matrix = confusion_matrix(y_true_classes, y_pred)\n",
        "\n",
        "print(\"Matriz de Confusão:\")\n",
        "print(conf_matrix)"
      ]
    },
    {
      "cell_type": "code",
      "execution_count": null,
      "metadata": {
        "id": "uv1a7r0m-h2y"
      },
      "outputs": [],
      "source": [
        "plt.figure(figsize=(8, 6))\n",
        "sns.heatmap(conf_matrix, annot=True, fmt='d', cmap='Blues', xticklabels=dataframe[\"Label\"].unique(),\n",
        "            yticklabels=dataframe[\"Label\"].unique())\n",
        "plt.xlabel('Predito')\n",
        "plt.ylabel('Verdadeiro')\n",
        "plt.xticks(rotation = 90)\n",
        "plt.title('Matriz de Confusão')\n",
        "plt.show()"
      ]
    },
    {
      "cell_type": "code",
      "execution_count": null,
      "metadata": {
        "id": "ZHivkPOtjejL"
      },
      "outputs": [],
      "source": [
        "# import IPython\n",
        "# app = IPython.Application.instance()\n",
        "# app.kernel.do_shutdown(True)"
      ]
    },
    {
      "cell_type": "markdown",
      "source": [
        "# Sigmoid 64"
      ],
      "metadata": {
        "id": "0V9G4-2ebD34"
      }
    },
    {
      "cell_type": "code",
      "source": [
        "# Uso de callback para reduzir o overfitting\n",
        "callback_one = EarlyStopping(patience = 50, restore_best_weights = True)\n",
        "callback_two = ReduceLROnPlateau(patience = 40)\n",
        "\n",
        "\n",
        "model = Sequential()\n",
        "model.add(Conv2D(32, (3, 3), input_shape = (256, 256, 1), activation = 'relu'))\n",
        "model.add(MaxPool2D((2, 2)))\n",
        "model.add(Conv2D(64, (3, 3), activation = 'relu'))\n",
        "model.add(MaxPool2D((2, 2)))\n",
        "model.add(Conv2D(128, (3, 3), activation = 'relu'))\n",
        "model.add(MaxPool2D((2, 2)))\n",
        "model.add(Dropout(0.1))\n",
        "model.add(Conv2D(256, (3, 3), activation = 'relu'))\n",
        "model.add(MaxPool2D((2, 2)))\n",
        "model.add(Flatten())\n",
        "model.add(Dense(64, activation = 'sigmoid'))\n",
        "model.add(Dense(4, activation = \"softmax\"))\n",
        "model.compile(loss=\"categorical_crossentropy\", metrics=[\"accuracy\"])\n",
        "# model.summary()\n",
        "\n",
        "history = model.fit(\n",
        "    train_dataset_loader,\n",
        "    validation_data = test_dataset_loader,\n",
        "    callbacks=[callback_one, callback_one],\n",
        "    batch_size = None,\n",
        "    epochs=50)"
      ],
      "metadata": {
        "id": "GW8b5ZQ-GHzL"
      },
      "execution_count": null,
      "outputs": []
    },
    {
      "cell_type": "code",
      "source": [
        "model.evaluate(test_dataset_loader)"
      ],
      "metadata": {
        "id": "W3xtSZzPbOLd"
      },
      "execution_count": null,
      "outputs": []
    },
    {
      "cell_type": "code",
      "source": [
        "plt.style.use('default')\n",
        "plt.figure(figsize=(12,10))\n",
        "plt.subplot(2,2,1)\n",
        "plt.plot(history.history['accuracy'])\n",
        "plt.plot(history.history['val_accuracy'])\n",
        "plt.title('Acurácia')\n",
        "plt.ylabel('Acurácia')\n",
        "plt.xlabel('Épocas')\n",
        "plt.legend(['Treinamento','Validação'], loc='lower right')\n",
        "plt.subplot(2,2,2)\n",
        "plt.plot(history.history['loss'])\n",
        "plt.plot(history.history['val_loss'])\n",
        "plt.title('Função de perda')\n",
        "plt.ylabel('loss')\n",
        "plt.xlabel('Época')\n",
        "plt.legend(['Treinamento','Validação'], loc='upper right')"
      ],
      "metadata": {
        "id": "GISjHIBibRdh"
      },
      "execution_count": null,
      "outputs": []
    },
    {
      "cell_type": "code",
      "source": [
        "# Fazer previsões usando o conjunto de teste\n",
        "y_true = np.concatenate([y.numpy() for _, y in test_dataset_loader], axis=0)\n",
        "y_pred_probs = model.predict(test_dataset_loader)\n",
        "y_pred = np.argmax(y_pred_probs, axis=1)\n",
        "\n",
        "# Converter os rótulos one-hot de volta para classes numéricas\n",
        "y_true_classes = np.argmax(y_true, axis=1)\n",
        "\n",
        "# Calcular a matriz de confusão\n",
        "conf_matrix = confusion_matrix(y_true_classes, y_pred)\n",
        "\n",
        "print(\"Matriz de Confusão:\")\n",
        "print(conf_matrix)"
      ],
      "metadata": {
        "id": "IxKDjS2TbWlE"
      },
      "execution_count": null,
      "outputs": []
    },
    {
      "cell_type": "code",
      "source": [
        "plt.figure(figsize=(8, 6))\n",
        "sns.heatmap(conf_matrix, annot=True, fmt='d', cmap='Blues', xticklabels=dataframe[\"Label\"].unique(),\n",
        "            yticklabels=dataframe[\"Label\"].unique())\n",
        "plt.xlabel('Predito')\n",
        "plt.ylabel('Verdadeiro')\n",
        "plt.xticks(rotation = 90)\n",
        "plt.title('Matriz de Confusão')\n",
        "plt.show()"
      ],
      "metadata": {
        "id": "8kq6ZOXRbXs1"
      },
      "execution_count": null,
      "outputs": []
    },
    {
      "cell_type": "markdown",
      "source": [
        "# Sigmoid 128"
      ],
      "metadata": {
        "id": "mpM34X-8bf14"
      }
    },
    {
      "cell_type": "code",
      "source": [
        "# Uso de callback para reduzir o overfitting\n",
        "callback_one = EarlyStopping(patience = 50, restore_best_weights = True)\n",
        "callback_two = ReduceLROnPlateau(patience = 40)\n",
        "\n",
        "\n",
        "model = Sequential()\n",
        "model.add(Conv2D(32, (3, 3), input_shape = (256, 256, 1), activation = 'relu'))\n",
        "model.add(MaxPool2D((2, 2)))\n",
        "model.add(Conv2D(64, (3, 3), activation = 'relu'))\n",
        "model.add(MaxPool2D((2, 2)))\n",
        "model.add(Conv2D(128, (3, 3), activation = 'relu'))\n",
        "model.add(MaxPool2D((2, 2)))\n",
        "model.add(Dropout(0.1))\n",
        "model.add(Conv2D(256, (3, 3), activation = 'relu'))\n",
        "model.add(MaxPool2D((2, 2)))\n",
        "model.add(Flatten())\n",
        "model.add(Dense(128, activation = 'sigmoid'))\n",
        "model.add(Dense(4, activation = \"softmax\"))\n",
        "model.compile(loss=\"categorical_crossentropy\", metrics=[\"accuracy\"])\n",
        "# model.summary()\n",
        "\n",
        "history = model.fit(\n",
        "    train_dataset_loader,\n",
        "    validation_data = test_dataset_loader,\n",
        "    callbacks=[callback_one, callback_one],\n",
        "    batch_size = None,\n",
        "    epochs=50)"
      ],
      "metadata": {
        "id": "9_wUIF2Lbf14"
      },
      "execution_count": null,
      "outputs": []
    },
    {
      "cell_type": "code",
      "source": [
        "model.evaluate(test_dataset_loader)"
      ],
      "metadata": {
        "id": "-BGW9KWJbf14"
      },
      "execution_count": null,
      "outputs": []
    },
    {
      "cell_type": "code",
      "source": [
        "plt.style.use('default')\n",
        "plt.figure(figsize=(12,10))\n",
        "plt.subplot(2,2,1)\n",
        "plt.plot(history.history['accuracy'])\n",
        "plt.plot(history.history['val_accuracy'])\n",
        "plt.title('Acurácia')\n",
        "plt.ylabel('Acurácia')\n",
        "plt.xlabel('Épocas')\n",
        "plt.legend(['Treinamento','Validação'], loc='lower right')\n",
        "plt.subplot(2,2,2)\n",
        "plt.plot(history.history['loss'])\n",
        "plt.plot(history.history['val_loss'])\n",
        "plt.title('Função de perda')\n",
        "plt.ylabel('loss')\n",
        "plt.xlabel('Época')\n",
        "plt.legend(['Treinamento','Validação'], loc='upper right')"
      ],
      "metadata": {
        "id": "B-2QwHKgbf14"
      },
      "execution_count": null,
      "outputs": []
    },
    {
      "cell_type": "code",
      "source": [
        "# Fazer previsões usando o conjunto de teste\n",
        "y_true = np.concatenate([y.numpy() for _, y in test_dataset_loader], axis=0)\n",
        "y_pred_probs = model.predict(test_dataset_loader)\n",
        "y_pred = np.argmax(y_pred_probs, axis=1)\n",
        "\n",
        "# Converter os rótulos one-hot de volta para classes numéricas\n",
        "y_true_classes = np.argmax(y_true, axis=1)\n",
        "\n",
        "# Calcular a matriz de confusão\n",
        "conf_matrix = confusion_matrix(y_true_classes, y_pred)\n",
        "\n",
        "print(\"Matriz de Confusão:\")\n",
        "print(conf_matrix)"
      ],
      "metadata": {
        "id": "GuA-DCo4bf15"
      },
      "execution_count": null,
      "outputs": []
    },
    {
      "cell_type": "code",
      "source": [
        "plt.figure(figsize=(8, 6))\n",
        "sns.heatmap(conf_matrix, annot=True, fmt='d', cmap='Blues', xticklabels=dataframe[\"Label\"].unique(),\n",
        "            yticklabels=dataframe[\"Label\"].unique())\n",
        "plt.xlabel('Predito')\n",
        "plt.ylabel('Verdadeiro')\n",
        "plt.xticks(rotation = 90)\n",
        "plt.title('Matriz de Confusão')\n",
        "plt.show()"
      ],
      "metadata": {
        "id": "_DQUAa_Cbf15"
      },
      "execution_count": null,
      "outputs": []
    },
    {
      "cell_type": "markdown",
      "source": [
        "# Tangente Hiperbolica 32"
      ],
      "metadata": {
        "id": "szL6Q1qJblvC"
      }
    },
    {
      "cell_type": "code",
      "source": [
        "# Uso de callback para reduzir o overfitting\n",
        "callback_one = EarlyStopping(patience = 50, restore_best_weights = True)\n",
        "callback_two = ReduceLROnPlateau(patience = 40)\n",
        "\n",
        "\n",
        "model = Sequential()\n",
        "model.add(Conv2D(32, (3, 3), input_shape = (256, 256, 1), activation = 'relu'))\n",
        "model.add(MaxPool2D((2, 2)))\n",
        "model.add(Conv2D(64, (3, 3), activation = 'relu'))\n",
        "model.add(MaxPool2D((2, 2)))\n",
        "model.add(Conv2D(128, (3, 3), activation = 'relu'))\n",
        "model.add(MaxPool2D((2, 2)))\n",
        "model.add(Dropout(0.1))\n",
        "model.add(Conv2D(256, (3, 3), activation = 'relu'))\n",
        "model.add(MaxPool2D((2, 2)))\n",
        "model.add(Flatten())\n",
        "model.add(Dense(32, activation = 'tanh'))\n",
        "model.add(Dense(4, activation = \"softmax\"))\n",
        "model.compile(loss=\"categorical_crossentropy\", metrics=[\"accuracy\"])\n",
        "# model.summary()\n",
        "\n",
        "history = model.fit(\n",
        "    train_dataset_loader,\n",
        "    validation_data = test_dataset_loader,\n",
        "    callbacks=[callback_one, callback_one],\n",
        "    batch_size = None,\n",
        "    epochs=50)"
      ],
      "metadata": {
        "id": "D8tRaSqqblvD"
      },
      "execution_count": null,
      "outputs": []
    },
    {
      "cell_type": "code",
      "source": [
        "model.evaluate(test_dataset_loader)"
      ],
      "metadata": {
        "id": "rzaDzY7oblvD"
      },
      "execution_count": null,
      "outputs": []
    },
    {
      "cell_type": "code",
      "source": [
        "plt.style.use('default')\n",
        "plt.figure(figsize=(12,10))\n",
        "plt.subplot(2,2,1)\n",
        "plt.plot(history.history['accuracy'])\n",
        "plt.plot(history.history['val_accuracy'])\n",
        "plt.title('Acurácia')\n",
        "plt.ylabel('Acurácia')\n",
        "plt.xlabel('Épocas')\n",
        "plt.legend(['Treinamento','Validação'], loc='lower right')\n",
        "plt.subplot(2,2,2)\n",
        "plt.plot(history.history['loss'])\n",
        "plt.plot(history.history['val_loss'])\n",
        "plt.title('Função de perda')\n",
        "plt.ylabel('loss')\n",
        "plt.xlabel('Época')\n",
        "plt.legend(['Treinamento','Validação'], loc='upper right')"
      ],
      "metadata": {
        "id": "kEltwKx-blvD"
      },
      "execution_count": null,
      "outputs": []
    },
    {
      "cell_type": "code",
      "source": [
        "# Fazer previsões usando o conjunto de teste\n",
        "y_true = np.concatenate([y.numpy() for _, y in test_dataset_loader], axis=0)\n",
        "y_pred_probs = model.predict(test_dataset_loader)\n",
        "y_pred = np.argmax(y_pred_probs, axis=1)\n",
        "\n",
        "# Converter os rótulos one-hot de volta para classes numéricas\n",
        "y_true_classes = np.argmax(y_true, axis=1)\n",
        "\n",
        "# Calcular a matriz de confusão\n",
        "conf_matrix = confusion_matrix(y_true_classes, y_pred)\n",
        "\n",
        "print(\"Matriz de Confusão:\")\n",
        "print(conf_matrix)"
      ],
      "metadata": {
        "id": "Dczh_M-vblvD"
      },
      "execution_count": null,
      "outputs": []
    },
    {
      "cell_type": "code",
      "source": [
        "plt.figure(figsize=(8, 6))\n",
        "sns.heatmap(conf_matrix, annot=True, fmt='d', cmap='Blues', xticklabels=dataframe[\"Label\"].unique(),\n",
        "            yticklabels=dataframe[\"Label\"].unique())\n",
        "plt.xlabel('Predito')\n",
        "plt.ylabel('Verdadeiro')\n",
        "plt.xticks(rotation = 90)\n",
        "plt.title('Matriz de Confusão')\n",
        "plt.show()"
      ],
      "metadata": {
        "id": "j6loVUyZblvD"
      },
      "execution_count": null,
      "outputs": []
    },
    {
      "cell_type": "markdown",
      "source": [
        "# Tangente Hiperbolica 64"
      ],
      "metadata": {
        "id": "DPTJZsNFbuSW"
      }
    },
    {
      "cell_type": "code",
      "source": [
        "# Uso de callback para reduzir o overfitting\n",
        "callback_one = EarlyStopping(patience = 50, restore_best_weights = True)\n",
        "callback_two = ReduceLROnPlateau(patience = 40)\n",
        "\n",
        "\n",
        "model = Sequential()\n",
        "model.add(Conv2D(32, (3, 3), input_shape = (256, 256, 1), activation = 'relu'))\n",
        "model.add(MaxPool2D((2, 2)))\n",
        "model.add(Conv2D(64, (3, 3), activation = 'relu'))\n",
        "model.add(MaxPool2D((2, 2)))\n",
        "model.add(Conv2D(128, (3, 3), activation = 'relu'))\n",
        "model.add(MaxPool2D((2, 2)))\n",
        "model.add(Dropout(0.1))\n",
        "model.add(Conv2D(256, (3, 3), activation = 'relu'))\n",
        "model.add(MaxPool2D((2, 2)))\n",
        "model.add(Flatten())\n",
        "model.add(Dense(64, activation = 'tanh'))\n",
        "model.add(Dense(4, activation = \"softmax\"))\n",
        "model.compile(loss=\"categorical_crossentropy\", metrics=[\"accuracy\"])\n",
        "# model.summary()\n",
        "\n",
        "history = model.fit(\n",
        "    train_dataset_loader,\n",
        "    validation_data = test_dataset_loader,\n",
        "    callbacks=[callback_one, callback_one],\n",
        "    batch_size = None,\n",
        "    epochs=50)"
      ],
      "metadata": {
        "id": "zwI4w0ORbuSc"
      },
      "execution_count": null,
      "outputs": []
    },
    {
      "cell_type": "code",
      "source": [
        "model.evaluate(test_dataset_loader)"
      ],
      "metadata": {
        "id": "D1st86-nbuSd"
      },
      "execution_count": null,
      "outputs": []
    },
    {
      "cell_type": "code",
      "source": [
        "plt.style.use('default')\n",
        "plt.figure(figsize=(12,10))\n",
        "plt.subplot(2,2,1)\n",
        "plt.plot(history.history['accuracy'])\n",
        "plt.plot(history.history['val_accuracy'])\n",
        "plt.title('Acurácia')\n",
        "plt.ylabel('Acurácia')\n",
        "plt.xlabel('Épocas')\n",
        "plt.legend(['Treinamento','Validação'], loc='lower right')\n",
        "plt.subplot(2,2,2)\n",
        "plt.plot(history.history['loss'])\n",
        "plt.plot(history.history['val_loss'])\n",
        "plt.title('Função de perda')\n",
        "plt.ylabel('loss')\n",
        "plt.xlabel('Época')\n",
        "plt.legend(['Treinamento','Validação'], loc='upper right')"
      ],
      "metadata": {
        "id": "CDJ8rFUYbuSd"
      },
      "execution_count": null,
      "outputs": []
    },
    {
      "cell_type": "code",
      "source": [
        "# Fazer previsões usando o conjunto de teste\n",
        "y_true = np.concatenate([y.numpy() for _, y in test_dataset_loader], axis=0)\n",
        "y_pred_probs = model.predict(test_dataset_loader)\n",
        "y_pred = np.argmax(y_pred_probs, axis=1)\n",
        "\n",
        "# Converter os rótulos one-hot de volta para classes numéricas\n",
        "y_true_classes = np.argmax(y_true, axis=1)\n",
        "\n",
        "# Calcular a matriz de confusão\n",
        "conf_matrix = confusion_matrix(y_true_classes, y_pred)\n",
        "\n",
        "print(\"Matriz de Confusão:\")\n",
        "print(conf_matrix)"
      ],
      "metadata": {
        "id": "0i8goT0jbuSd"
      },
      "execution_count": null,
      "outputs": []
    },
    {
      "cell_type": "code",
      "source": [
        "plt.figure(figsize=(8, 6))\n",
        "sns.heatmap(conf_matrix, annot=True, fmt='d', cmap='Blues', xticklabels=dataframe[\"Label\"].unique(),\n",
        "            yticklabels=dataframe[\"Label\"].unique())\n",
        "plt.xlabel('Predito')\n",
        "plt.ylabel('Verdadeiro')\n",
        "plt.xticks(rotation = 90)\n",
        "plt.title('Matriz de Confusão')\n",
        "plt.show()"
      ],
      "metadata": {
        "id": "V-Se8JsFbuSd"
      },
      "execution_count": null,
      "outputs": []
    },
    {
      "cell_type": "markdown",
      "source": [
        "# Tangente Hiperbolica 128"
      ],
      "metadata": {
        "id": "9SQAJQh1bzb4"
      }
    },
    {
      "cell_type": "code",
      "source": [
        "# Uso de callback para reduzir o overfitting\n",
        "callback_one = EarlyStopping(patience = 50, restore_best_weights = True)\n",
        "callback_two = ReduceLROnPlateau(patience = 40)\n",
        "\n",
        "\n",
        "model = Sequential()\n",
        "model.add(Conv2D(32, (3, 3), input_shape = (256, 256, 1), activation = 'relu'))\n",
        "model.add(MaxPool2D((2, 2)))\n",
        "model.add(Conv2D(64, (3, 3), activation = 'relu'))\n",
        "model.add(MaxPool2D((2, 2)))\n",
        "model.add(Conv2D(128, (3, 3), activation = 'relu'))\n",
        "model.add(MaxPool2D((2, 2)))\n",
        "model.add(Dropout(0.1))\n",
        "model.add(Conv2D(256, (3, 3), activation = 'relu'))\n",
        "model.add(MaxPool2D((2, 2)))\n",
        "model.add(Flatten())\n",
        "model.add(Dense(128, activation = 'tanh'))\n",
        "model.add(Dense(4, activation = \"softmax\"))\n",
        "model.compile(loss=\"categorical_crossentropy\", metrics=[\"accuracy\"])\n",
        "# model.summary()\n",
        "\n",
        "history = model.fit(\n",
        "    train_dataset_loader,\n",
        "    validation_data = test_dataset_loader,\n",
        "    callbacks=[callback_one, callback_one],\n",
        "    batch_size = None,\n",
        "    epochs=50)"
      ],
      "metadata": {
        "id": "brtwbkovbzb_"
      },
      "execution_count": null,
      "outputs": []
    },
    {
      "cell_type": "code",
      "source": [
        "model.evaluate(test_dataset_loader)"
      ],
      "metadata": {
        "id": "wwPLXE3Xbzb_"
      },
      "execution_count": null,
      "outputs": []
    },
    {
      "cell_type": "code",
      "source": [
        "plt.style.use('default')\n",
        "plt.figure(figsize=(12,10))\n",
        "plt.subplot(2,2,1)\n",
        "plt.plot(history.history['accuracy'])\n",
        "plt.plot(history.history['val_accuracy'])\n",
        "plt.title('Acurácia')\n",
        "plt.ylabel('Acurácia')\n",
        "plt.xlabel('Épocas')\n",
        "plt.legend(['Treinamento','Validação'], loc='lower right')\n",
        "plt.subplot(2,2,2)\n",
        "plt.plot(history.history['loss'])\n",
        "plt.plot(history.history['val_loss'])\n",
        "plt.title('Função de perda')\n",
        "plt.ylabel('loss')\n",
        "plt.xlabel('Época')\n",
        "plt.legend(['Treinamento','Validação'], loc='upper right')"
      ],
      "metadata": {
        "id": "bJfgsYJMbzb_"
      },
      "execution_count": null,
      "outputs": []
    },
    {
      "cell_type": "code",
      "source": [
        "# Fazer previsões usando o conjunto de teste\n",
        "y_true = np.concatenate([y.numpy() for _, y in test_dataset_loader], axis=0)\n",
        "y_pred_probs = model.predict(test_dataset_loader)\n",
        "y_pred = np.argmax(y_pred_probs, axis=1)\n",
        "\n",
        "# Converter os rótulos one-hot de volta para classes numéricas\n",
        "y_true_classes = np.argmax(y_true, axis=1)\n",
        "\n",
        "# Calcular a matriz de confusão\n",
        "conf_matrix = confusion_matrix(y_true_classes, y_pred)\n",
        "\n",
        "print(\"Matriz de Confusão:\")\n",
        "print(conf_matrix)"
      ],
      "metadata": {
        "id": "JJCezNDmbzb_"
      },
      "execution_count": null,
      "outputs": []
    },
    {
      "cell_type": "code",
      "source": [
        "plt.figure(figsize=(8, 6))\n",
        "sns.heatmap(conf_matrix, annot=True, fmt='d', cmap='Blues', xticklabels=dataframe[\"Label\"].unique(),\n",
        "            yticklabels=dataframe[\"Label\"].unique())\n",
        "plt.xlabel('Predito')\n",
        "plt.ylabel('Verdadeiro')\n",
        "plt.xticks(rotation = 90)\n",
        "plt.title('Matriz de Confusão')\n",
        "plt.show()"
      ],
      "metadata": {
        "id": "Zo483zk8bzb_"
      },
      "execution_count": null,
      "outputs": []
    },
    {
      "cell_type": "markdown",
      "source": [
        "# Relu 32"
      ],
      "metadata": {
        "id": "zlVhyvvlyB0z"
      }
    },
    {
      "cell_type": "code",
      "source": [
        "# Uso de callback para reduzir o overfitting\n",
        "callback_one = EarlyStopping(patience = 50, restore_best_weights = True)\n",
        "callback_two = ReduceLROnPlateau(patience = 40)\n",
        "\n",
        "\n",
        "model = Sequential()\n",
        "model.add(Conv2D(32, (3, 3), input_shape = (256, 256, 1), activation = 'relu'))\n",
        "model.add(MaxPool2D((2, 2)))\n",
        "model.add(Conv2D(64, (3, 3), activation = 'relu'))\n",
        "model.add(MaxPool2D((2, 2)))\n",
        "model.add(Conv2D(128, (3, 3), activation = 'relu'))\n",
        "model.add(MaxPool2D((2, 2)))\n",
        "model.add(Dropout(0.1))\n",
        "model.add(Conv2D(256, (3, 3), activation = 'relu'))\n",
        "model.add(MaxPool2D((2, 2)))\n",
        "model.add(Flatten())\n",
        "model.add(Dense(32, activation = 'relu'))\n",
        "model.add(Dense(4, activation = \"softmax\"))\n",
        "model.compile(loss=\"categorical_crossentropy\", metrics=[\"accuracy\"])\n",
        "# model.summary()\n",
        "\n",
        "history = model.fit(\n",
        "    train_dataset_loader,\n",
        "    validation_data = test_dataset_loader,\n",
        "    callbacks=[callback_one, callback_one],\n",
        "    batch_size = None,\n",
        "    epochs=50)"
      ],
      "metadata": {
        "id": "5JZ4629hyB05"
      },
      "execution_count": null,
      "outputs": []
    },
    {
      "cell_type": "code",
      "source": [
        "model.evaluate(test_dataset_loader)"
      ],
      "metadata": {
        "id": "jR6lHDrqyB05"
      },
      "execution_count": null,
      "outputs": []
    },
    {
      "cell_type": "code",
      "source": [
        "plt.style.use('default')\n",
        "plt.figure(figsize=(12,10))\n",
        "plt.subplot(2,2,1)\n",
        "plt.plot(history.history['accuracy'])\n",
        "plt.plot(history.history['val_accuracy'])\n",
        "plt.title('Acurácia')\n",
        "plt.ylabel('Acurácia')\n",
        "plt.xlabel('Épocas')\n",
        "plt.legend(['Treinamento','Validação'], loc='lower right')\n",
        "plt.subplot(2,2,2)\n",
        "plt.plot(history.history['loss'])\n",
        "plt.plot(history.history['val_loss'])\n",
        "plt.title('Função de perda')\n",
        "plt.ylabel('loss')\n",
        "plt.xlabel('Época')\n",
        "plt.legend(['Treinamento','Validação'], loc='upper right')"
      ],
      "metadata": {
        "id": "qzfFOmzpyB05"
      },
      "execution_count": null,
      "outputs": []
    },
    {
      "cell_type": "code",
      "source": [
        "# Fazer previsões usando o conjunto de teste\n",
        "y_true = np.concatenate([y.numpy() for _, y in test_dataset_loader], axis=0)\n",
        "y_pred_probs = model.predict(test_dataset_loader)\n",
        "y_pred = np.argmax(y_pred_probs, axis=1)\n",
        "\n",
        "# Converter os rótulos one-hot de volta para classes numéricas\n",
        "y_true_classes = np.argmax(y_true, axis=1)\n",
        "\n",
        "# Calcular a matriz de confusão\n",
        "conf_matrix = confusion_matrix(y_true_classes, y_pred)\n",
        "\n",
        "print(\"Matriz de Confusão:\")\n",
        "print(conf_matrix)"
      ],
      "metadata": {
        "id": "AO6AE9V-yB06"
      },
      "execution_count": null,
      "outputs": []
    },
    {
      "cell_type": "code",
      "source": [
        "plt.figure(figsize=(8, 6))\n",
        "sns.heatmap(conf_matrix, annot=True, fmt='d', cmap='Blues', xticklabels=dataframe[\"Label\"].unique(),\n",
        "            yticklabels=dataframe[\"Label\"].unique())\n",
        "plt.xlabel('Predito')\n",
        "plt.ylabel('Verdadeiro')\n",
        "plt.xticks(rotation = 90)\n",
        "plt.title('Matriz de Confusão')\n",
        "plt.show()"
      ],
      "metadata": {
        "id": "cfTlv8WQyB06"
      },
      "execution_count": null,
      "outputs": []
    },
    {
      "cell_type": "markdown",
      "source": [
        "# Relu 64"
      ],
      "metadata": {
        "id": "2P2LPb9byMg3"
      }
    },
    {
      "cell_type": "code",
      "source": [
        "# Uso de callback para reduzir o overfitting\n",
        "callback_one = EarlyStopping(patience = 50, restore_best_weights = True)\n",
        "callback_two = ReduceLROnPlateau(patience = 40)\n",
        "\n",
        "\n",
        "model = Sequential()\n",
        "model.add(Conv2D(32, (3, 3), input_shape = (256, 256, 1), activation = 'relu'))\n",
        "model.add(MaxPool2D((2, 2)))\n",
        "model.add(Conv2D(64, (3, 3), activation = 'relu'))\n",
        "model.add(MaxPool2D((2, 2)))\n",
        "model.add(Conv2D(128, (3, 3), activation = 'relu'))\n",
        "model.add(MaxPool2D((2, 2)))\n",
        "model.add(Dropout(0.1))\n",
        "model.add(Conv2D(256, (3, 3), activation = 'relu'))\n",
        "model.add(MaxPool2D((2, 2)))\n",
        "model.add(Flatten())\n",
        "model.add(Dense(32, activation = 'relu'))\n",
        "model.add(Dense(4, activation = \"softmax\"))\n",
        "model.compile(loss=\"categorical_crossentropy\", metrics=[\"accuracy\"])\n",
        "# model.summary()\n",
        "\n",
        "history = model.fit(\n",
        "    train_dataset_loader,\n",
        "    validation_data = test_dataset_loader,\n",
        "    callbacks=[callback_one, callback_one],\n",
        "    batch_size = None,\n",
        "    epochs=50)"
      ],
      "metadata": {
        "id": "tE4bz1IWyMg9"
      },
      "execution_count": null,
      "outputs": []
    },
    {
      "cell_type": "code",
      "source": [
        "model.evaluate(test_dataset_loader)"
      ],
      "metadata": {
        "id": "XBnb5kTQyMg-"
      },
      "execution_count": null,
      "outputs": []
    },
    {
      "cell_type": "code",
      "source": [
        "plt.style.use('default')\n",
        "plt.figure(figsize=(12,10))\n",
        "plt.subplot(2,2,1)\n",
        "plt.plot(history.history['accuracy'])\n",
        "plt.plot(history.history['val_accuracy'])\n",
        "plt.title('Acurácia')\n",
        "plt.ylabel('Acurácia')\n",
        "plt.xlabel('Épocas')\n",
        "plt.legend(['Treinamento','Validação'], loc='lower right')\n",
        "plt.subplot(2,2,2)\n",
        "plt.plot(history.history['loss'])\n",
        "plt.plot(history.history['val_loss'])\n",
        "plt.title('Função de perda')\n",
        "plt.ylabel('loss')\n",
        "plt.xlabel('Época')\n",
        "plt.legend(['Treinamento','Validação'], loc='upper right')"
      ],
      "metadata": {
        "id": "lTx0ij6qyMg-"
      },
      "execution_count": null,
      "outputs": []
    },
    {
      "cell_type": "code",
      "source": [
        "# Fazer previsões usando o conjunto de teste\n",
        "y_true = np.concatenate([y.numpy() for _, y in test_dataset_loader], axis=0)\n",
        "y_pred_probs = model.predict(test_dataset_loader)\n",
        "y_pred = np.argmax(y_pred_probs, axis=1)\n",
        "\n",
        "# Converter os rótulos one-hot de volta para classes numéricas\n",
        "y_true_classes = np.argmax(y_true, axis=1)\n",
        "\n",
        "# Calcular a matriz de confusão\n",
        "conf_matrix = confusion_matrix(y_true_classes, y_pred)\n",
        "\n",
        "print(\"Matriz de Confusão:\")\n",
        "print(conf_matrix)"
      ],
      "metadata": {
        "id": "97w4Cf3OyMg-"
      },
      "execution_count": null,
      "outputs": []
    },
    {
      "cell_type": "code",
      "source": [
        "plt.figure(figsize=(8, 6))\n",
        "sns.heatmap(conf_matrix, annot=True, fmt='d', cmap='Blues', xticklabels=dataframe[\"Label\"].unique(),\n",
        "            yticklabels=dataframe[\"Label\"].unique())\n",
        "plt.xlabel('Predito')\n",
        "plt.ylabel('Verdadeiro')\n",
        "plt.xticks(rotation = 90)\n",
        "plt.title('Matriz de Confusão')\n",
        "plt.show()"
      ],
      "metadata": {
        "id": "4CGpdrwQyMg-"
      },
      "execution_count": null,
      "outputs": []
    },
    {
      "cell_type": "markdown",
      "source": [
        "# Relu 128"
      ],
      "metadata": {
        "id": "QAot3lxLyRaF"
      }
    },
    {
      "cell_type": "code",
      "source": [
        "# Uso de callback para reduzir o overfitting\n",
        "callback_one = EarlyStopping(patience = 50, restore_best_weights = True)\n",
        "callback_two = ReduceLROnPlateau(patience = 40)\n",
        "\n",
        "\n",
        "model = Sequential()\n",
        "model.add(Conv2D(32, (3, 3), input_shape = (256, 256, 1), activation = 'relu'))\n",
        "model.add(MaxPool2D((2, 2)))\n",
        "model.add(Conv2D(64, (3, 3), activation = 'relu'))\n",
        "model.add(MaxPool2D((2, 2)))\n",
        "model.add(Conv2D(128, (3, 3), activation = 'relu'))\n",
        "model.add(MaxPool2D((2, 2)))\n",
        "model.add(Dropout(0.1))\n",
        "model.add(Conv2D(256, (3, 3), activation = 'relu'))\n",
        "model.add(MaxPool2D((2, 2)))\n",
        "model.add(Flatten())\n",
        "model.add(Dense(128, activation = 'relu'))\n",
        "model.add(Dense(4, activation = \"softmax\"))\n",
        "model.compile(loss=\"categorical_crossentropy\", metrics=[\"accuracy\"])\n",
        "# model.summary()\n",
        "\n",
        "history = model.fit(\n",
        "    train_dataset_loader,\n",
        "    validation_data = test_dataset_loader,\n",
        "    callbacks=[callback_one, callback_one],\n",
        "    batch_size = None,\n",
        "    epochs=50)"
      ],
      "metadata": {
        "id": "ReR1PkDYyRaL"
      },
      "execution_count": null,
      "outputs": []
    },
    {
      "cell_type": "code",
      "source": [
        "model.evaluate(test_dataset_loader)"
      ],
      "metadata": {
        "id": "HKZk9vj8yRaL"
      },
      "execution_count": null,
      "outputs": []
    },
    {
      "cell_type": "code",
      "source": [
        "plt.style.use('default')\n",
        "plt.figure(figsize=(12,10))\n",
        "plt.subplot(2,2,1)\n",
        "plt.plot(history.history['accuracy'])\n",
        "plt.plot(history.history['val_accuracy'])\n",
        "plt.title('Acurácia')\n",
        "plt.ylabel('Acurácia')\n",
        "plt.xlabel('Épocas')\n",
        "plt.legend(['Treinamento','Validação'], loc='lower right')\n",
        "plt.subplot(2,2,2)\n",
        "plt.plot(history.history['loss'])\n",
        "plt.plot(history.history['val_loss'])\n",
        "plt.title('Função de perda')\n",
        "plt.ylabel('loss')\n",
        "plt.xlabel('Época')\n",
        "plt.legend(['Treinamento','Validação'], loc='upper right')"
      ],
      "metadata": {
        "id": "NGbxUVcwyRaL"
      },
      "execution_count": null,
      "outputs": []
    },
    {
      "cell_type": "code",
      "source": [
        "# Fazer previsões usando o conjunto de teste\n",
        "y_true = np.concatenate([y.numpy() for _, y in test_dataset_loader], axis=0)\n",
        "y_pred_probs = model.predict(test_dataset_loader)\n",
        "y_pred = np.argmax(y_pred_probs, axis=1)\n",
        "\n",
        "# Converter os rótulos one-hot de volta para classes numéricas\n",
        "y_true_classes = np.argmax(y_true, axis=1)\n",
        "\n",
        "# Calcular a matriz de confusão\n",
        "conf_matrix = confusion_matrix(y_true_classes, y_pred)\n",
        "\n",
        "print(\"Matriz de Confusão:\")\n",
        "print(conf_matrix)"
      ],
      "metadata": {
        "id": "-k5K8OMVyRaL"
      },
      "execution_count": null,
      "outputs": []
    },
    {
      "cell_type": "code",
      "source": [
        "plt.figure(figsize=(8, 6))\n",
        "sns.heatmap(conf_matrix, annot=True, fmt='d', cmap='Blues', xticklabels=dataframe[\"Label\"].unique(),\n",
        "            yticklabels=dataframe[\"Label\"].unique())\n",
        "plt.xlabel('Predito')\n",
        "plt.ylabel('Verdadeiro')\n",
        "plt.xticks(rotation = 90)\n",
        "plt.title('Matriz de Confusão')\n",
        "plt.show()"
      ],
      "metadata": {
        "id": "asiIduQFyRaL"
      },
      "execution_count": null,
      "outputs": []
    },
    {
      "cell_type": "markdown",
      "source": [
        "# 3 Camadas de convolução 32 x 64 x 128 (3 x 3) - MaxPoll2D (2 x 2)"
      ],
      "metadata": {
        "id": "dbzyI92A67dG"
      }
    },
    {
      "cell_type": "code",
      "source": [
        "# Uso de callback para reduzir o overfitting\n",
        "callback_one = EarlyStopping(patience = 50, restore_best_weights = True)\n",
        "callback_two = ReduceLROnPlateau(patience = 40)\n",
        "\n",
        "\n",
        "model = Sequential()\n",
        "model.add(Conv2D(32, (3, 3), input_shape = (256, 256, 1), activation = 'relu'))\n",
        "model.add(MaxPool2D((2, 2)))\n",
        "model.add(Conv2D(64, (3, 3), activation = 'relu'))\n",
        "model.add(MaxPool2D((2, 2)))\n",
        "model.add(Dropout(0.1))\n",
        "model.add(Conv2D(128, (3, 3), activation = 'relu'))\n",
        "model.add(MaxPool2D((2, 2)))\n",
        "model.add(Flatten())\n",
        "model.add(Dense(128, activation = 'relu'))\n",
        "model.add(Dense(4, activation = \"softmax\"))\n",
        "model.compile(loss=\"categorical_crossentropy\", metrics=[\"accuracy\"])\n",
        "# model.summary()\n",
        "\n",
        "history = model.fit(\n",
        "    train_dataset_loader,\n",
        "    validation_data = test_dataset_loader,\n",
        "    callbacks=[callback_one, callback_one],\n",
        "    batch_size = None,\n",
        "    epochs=50)"
      ],
      "metadata": {
        "id": "mgJapUhf67dN"
      },
      "execution_count": null,
      "outputs": []
    },
    {
      "cell_type": "code",
      "source": [
        "model.evaluate(test_dataset_loader)"
      ],
      "metadata": {
        "id": "IASEiPRk67dN"
      },
      "execution_count": null,
      "outputs": []
    },
    {
      "cell_type": "code",
      "source": [
        "plt.style.use('default')\n",
        "plt.figure(figsize=(12,10))\n",
        "plt.subplot(2,2,1)\n",
        "plt.plot(history.history['accuracy'])\n",
        "plt.plot(history.history['val_accuracy'])\n",
        "plt.title('Acurácia')\n",
        "plt.ylabel('Acurácia')\n",
        "plt.xlabel('Épocas')\n",
        "plt.legend(['Treinamento','Validação'], loc='lower right')\n",
        "plt.subplot(2,2,2)\n",
        "plt.plot(history.history['loss'])\n",
        "plt.plot(history.history['val_loss'])\n",
        "plt.title('Função de perda')\n",
        "plt.ylabel('loss')\n",
        "plt.xlabel('Época')\n",
        "plt.legend(['Treinamento','Validação'], loc='upper right')"
      ],
      "metadata": {
        "id": "oShUZK0w67dN"
      },
      "execution_count": null,
      "outputs": []
    },
    {
      "cell_type": "code",
      "source": [
        "# Fazer previsões usando o conjunto de teste\n",
        "y_true = np.concatenate([y.numpy() for _, y in test_dataset_loader], axis=0)\n",
        "y_pred_probs = model.predict(test_dataset_loader)\n",
        "y_pred = np.argmax(y_pred_probs, axis=1)\n",
        "\n",
        "# Converter os rótulos one-hot de volta para classes numéricas\n",
        "y_true_classes = np.argmax(y_true, axis=1)\n",
        "\n",
        "# Calcular a matriz de confusão\n",
        "conf_matrix = confusion_matrix(y_true_classes, y_pred)\n",
        "\n",
        "print(\"Matriz de Confusão:\")\n",
        "print(conf_matrix)"
      ],
      "metadata": {
        "id": "L_gRS0gu67dN"
      },
      "execution_count": null,
      "outputs": []
    },
    {
      "cell_type": "code",
      "source": [
        "plt.figure(figsize=(8, 6))\n",
        "sns.heatmap(conf_matrix, annot=True, fmt='d', cmap='Blues', xticklabels=dataframe[\"Label\"].unique(),\n",
        "            yticklabels=dataframe[\"Label\"].unique())\n",
        "plt.xlabel('Predito')\n",
        "plt.ylabel('Verdadeiro')\n",
        "plt.xticks(rotation = 90)\n",
        "plt.title('Matriz de Confusão')\n",
        "plt.show()"
      ],
      "metadata": {
        "id": "bThjiMfL67dN"
      },
      "execution_count": null,
      "outputs": []
    },
    {
      "cell_type": "code",
      "source": [
        "color_map = defaultdict(dict)\n",
        "color_map[Conv2D]['fill'] = 'orange'\n",
        "color_map[ZeroPadding2D]['fill'] = 'gray'\n",
        "color_map[Dropout]['fill'] = 'pink'\n",
        "color_map[MaxPool2D]['fill'] = 'red'\n",
        "color_map[Dense]['fill'] = 'green'\n",
        "color_map[Flatten]['fill'] = 'teal'\n",
        "\n",
        "visualkeras.layered_view(model, legend=True, draw_volume=False, scale_xy=1, scale_z=2, max_z=30, color_map=color_map)"
      ],
      "metadata": {
        "id": "VgJpRXsPC4Sf"
      },
      "execution_count": null,
      "outputs": []
    },
    {
      "cell_type": "markdown",
      "source": [
        "# 5 Camadas de convolução - 32 x 64 x 128 x 128 x 64 (3 x 3) - MaxPool2D (2 x 2)"
      ],
      "metadata": {
        "id": "u2JtIGzm0lrM"
      }
    },
    {
      "cell_type": "code",
      "source": [
        "# Uso de callback para reduzir o overfitting\n",
        "callback_one = EarlyStopping(patience = 40, restore_best_weights = True)\n",
        "callback_two = ReduceLROnPlateau(patience = 40)\n",
        "\n",
        "model = Sequential()\n",
        "model.add(Conv2D(32, (3, 3), input_shape = (256, 256, 1), activation = 'relu'))\n",
        "model.add(MaxPool2D((2, 2)))\n",
        "model.add(Conv2D(64, (3, 3), activation = 'relu'))\n",
        "model.add(MaxPool2D((2, 2)))\n",
        "model.add(Dropout(0.1))\n",
        "model.add(Conv2D(128, (3, 3), activation = 'relu'))\n",
        "model.add(MaxPool2D((2, 2)))\n",
        "model.add(Conv2D(128, (3, 3), activation = 'relu'))\n",
        "model.add(MaxPool2D((2, 2)))\n",
        "model.add(Conv2D(64, (3, 3), activation = 'relu'))\n",
        "model.add(MaxPool2D((2, 2)))\n",
        "model.add(Dropout(0.1))\n",
        "model.add(Flatten())\n",
        "model.add(Dense(128, activation = 'relu'))\n",
        "model.add(Dense(4, activation = \"softmax\"))\n",
        "model.compile(loss=\"categorical_crossentropy\", metrics=[\"accuracy\"])\n",
        "# model.summary()\n",
        "\n",
        "history = model.fit(\n",
        "    train_dataset_loader,\n",
        "    validation_data = test_dataset_loader,\n",
        "    callbacks=[callback_one, callback_one],\n",
        "    batch_size = None,\n",
        "    epochs=50)"
      ],
      "metadata": {
        "id": "wz-ehzSD0lrj"
      },
      "execution_count": null,
      "outputs": []
    },
    {
      "cell_type": "code",
      "source": [
        "model.evaluate(test_dataset_loader)"
      ],
      "metadata": {
        "id": "fP5rd0Gk0lrk"
      },
      "execution_count": null,
      "outputs": []
    },
    {
      "cell_type": "code",
      "source": [
        "plt.style.use('default')\n",
        "plt.figure(figsize=(12,10))\n",
        "plt.subplot(2,2,1)\n",
        "plt.plot(history.history['accuracy'])\n",
        "plt.plot(history.history['val_accuracy'])\n",
        "plt.title('Acurácia')\n",
        "plt.ylabel('Acurácia')\n",
        "plt.xlabel('Épocas')\n",
        "plt.legend(['Treinamento','Validação'], loc='lower right')\n",
        "plt.subplot(2,2,2)\n",
        "plt.plot(history.history['loss'])\n",
        "plt.plot(history.history['val_loss'])\n",
        "plt.title('Função de perda')\n",
        "plt.ylabel('loss')\n",
        "plt.xlabel('Época')\n",
        "plt.legend(['Treinamento','Validação'], loc='upper right')"
      ],
      "metadata": {
        "id": "ppb3hRH80lrk"
      },
      "execution_count": null,
      "outputs": []
    },
    {
      "cell_type": "code",
      "source": [
        "# Fazer previsões usando o conjunto de teste\n",
        "y_true = np.concatenate([y.numpy() for _, y in test_dataset_loader], axis=0)\n",
        "y_pred_probs = model.predict(test_dataset_loader)\n",
        "y_pred = np.argmax(y_pred_probs, axis=1)\n",
        "\n",
        "# Converter os rótulos one-hot de volta para classes numéricas\n",
        "y_true_classes = np.argmax(y_true, axis=1)\n",
        "\n",
        "# Calcular a matriz de confusão\n",
        "conf_matrix = confusion_matrix(y_true_classes, y_pred)\n",
        "\n",
        "print(\"Matriz de Confusão:\")\n",
        "print(conf_matrix)"
      ],
      "metadata": {
        "id": "95YPOOtW0lrl"
      },
      "execution_count": null,
      "outputs": []
    },
    {
      "cell_type": "code",
      "source": [
        "plt.figure(figsize=(8, 6))\n",
        "sns.heatmap(conf_matrix, annot=True, fmt='d', cmap='Blues', xticklabels=dataframe[\"Label\"].unique(),\n",
        "            yticklabels=dataframe[\"Label\"].unique())\n",
        "plt.xlabel('Predito')\n",
        "plt.ylabel('Verdadeiro')\n",
        "plt.xticks(rotation = 90)\n",
        "plt.title('Matriz de Confusão')\n",
        "plt.show()"
      ],
      "metadata": {
        "id": "hGrZ5St10lrl"
      },
      "execution_count": null,
      "outputs": []
    },
    {
      "cell_type": "code",
      "source": [
        "color_map = defaultdict(dict)\n",
        "color_map[Conv2D]['fill'] = 'orange'\n",
        "color_map[ZeroPadding2D]['fill'] = 'gray'\n",
        "color_map[Dropout]['fill'] = 'pink'\n",
        "color_map[MaxPool2D]['fill'] = 'red'\n",
        "color_map[Dense]['fill'] = 'green'\n",
        "color_map[Flatten]['fill'] = 'teal'\n",
        "\n",
        "visualkeras.layered_view(model, legend=True, draw_volume=False, scale_xy=1, scale_z=2, max_z=30, color_map=color_map)"
      ],
      "metadata": {
        "id": "uN_c3MpcC6Ea"
      },
      "execution_count": null,
      "outputs": []
    },
    {
      "cell_type": "markdown",
      "source": [
        "# 4 Camadas de convolução - 32 x 64 x 128 x 256 (4 x 4) - MaxPool (3 x 3)"
      ],
      "metadata": {
        "id": "Bnsl7oNy7L5G"
      }
    },
    {
      "cell_type": "code",
      "source": [
        "# Uso de callback para reduzir o overfitting\n",
        "callback_one = EarlyStopping(patience = 50, restore_best_weights = True)\n",
        "callback_two = ReduceLROnPlateau(patience = 40)\n",
        "\n",
        "model = Sequential()\n",
        "model.add(Conv2D(32, (4, 4), input_shape = (256, 256, 1), activation = 'relu'))\n",
        "model.add(MaxPool2D((3, 3)))\n",
        "model.add(Conv2D(64, (4, 4), activation = 'relu'))\n",
        "model.add(MaxPool2D((3, 3)))\n",
        "model.add(Conv2D(128, (4, 4), activation = 'relu'))\n",
        "model.add(MaxPool2D((3, 3)))\n",
        "model.add(Conv2D(256, (4, 4), activation = 'relu'))\n",
        "model.add(MaxPool2D((3, 3)))\n",
        "model.add(Dropout(0.2))\n",
        "model.add(Flatten())\n",
        "model.add(Dense(128, activation = 'relu'))\n",
        "model.add(Dense(4, activation = \"softmax\"))\n",
        "model.compile(loss=\"categorical_crossentropy\", metrics=[\"accuracy\"])\n",
        "# model.summary()\n",
        "\n",
        "history = model.fit(\n",
        "    train_dataset_loader,\n",
        "    validation_data = test_dataset_loader,\n",
        "    callbacks=[callback_one, callback_one],\n",
        "    batch_size = None,\n",
        "    epochs=50)"
      ],
      "metadata": {
        "id": "QFQOKfjD7L5M"
      },
      "execution_count": null,
      "outputs": []
    },
    {
      "cell_type": "code",
      "source": [
        "model.evaluate(test_dataset_loader)"
      ],
      "metadata": {
        "id": "YWCFdvNI7L5N"
      },
      "execution_count": null,
      "outputs": []
    },
    {
      "cell_type": "code",
      "source": [
        "plt.style.use('default')\n",
        "plt.figure(figsize=(12,10))\n",
        "plt.subplot(2,2,1)\n",
        "plt.plot(history.history['accuracy'])\n",
        "plt.plot(history.history['val_accuracy'])\n",
        "plt.title('Acurácia')\n",
        "plt.ylabel('Acurácia')\n",
        "plt.xlabel('Épocas')\n",
        "plt.legend(['Treinamento','Validação'], loc='lower right')\n",
        "plt.subplot(2,2,2)\n",
        "plt.plot(history.history['loss'])\n",
        "plt.plot(history.history['val_loss'])\n",
        "plt.title('Função de perda')\n",
        "plt.ylabel('loss')\n",
        "plt.xlabel('Época')\n",
        "plt.legend(['Treinamento','Validação'], loc='upper right')"
      ],
      "metadata": {
        "id": "A_2uLzYj7L5N"
      },
      "execution_count": null,
      "outputs": []
    },
    {
      "cell_type": "code",
      "source": [
        "# Fazer previsões usando o conjunto de teste\n",
        "y_true = np.concatenate([y.numpy() for _, y in test_dataset_loader], axis=0)\n",
        "y_pred_probs = model.predict(test_dataset_loader)\n",
        "y_pred = np.argmax(y_pred_probs, axis=1)\n",
        "\n",
        "# Converter os rótulos one-hot de volta para classes numéricas\n",
        "y_true_classes = np.argmax(y_true, axis=1)\n",
        "\n",
        "# Calcular a matriz de confusão\n",
        "conf_matrix = confusion_matrix(y_true_classes, y_pred)\n",
        "\n",
        "print(\"Matriz de Confusão:\")\n",
        "print(conf_matrix)"
      ],
      "metadata": {
        "id": "tXYTo6Qu7L5N"
      },
      "execution_count": null,
      "outputs": []
    },
    {
      "cell_type": "code",
      "source": [
        "plt.figure(figsize=(8, 6))\n",
        "sns.heatmap(conf_matrix, annot=True, fmt='d', cmap='Blues', xticklabels=dataframe[\"Label\"].unique(),\n",
        "            yticklabels=dataframe[\"Label\"].unique())\n",
        "plt.xlabel('Predito')\n",
        "plt.ylabel('Verdadeiro')\n",
        "plt.xticks(rotation = 90)\n",
        "plt.title('Matriz de Confusão')\n",
        "plt.show()"
      ],
      "metadata": {
        "id": "iOARtuA_7L5N"
      },
      "execution_count": null,
      "outputs": []
    },
    {
      "cell_type": "code",
      "source": [
        "color_map = defaultdict(dict)\n",
        "color_map[Conv2D]['fill'] = 'orange'\n",
        "color_map[ZeroPadding2D]['fill'] = 'gray'\n",
        "color_map[Dropout]['fill'] = 'pink'\n",
        "color_map[MaxPool2D]['fill'] = 'red'\n",
        "color_map[Dense]['fill'] = 'green'\n",
        "color_map[Flatten]['fill'] = 'teal'\n",
        "\n",
        "visualkeras.layered_view(model, legend=True, draw_volume=False, scale_xy=1, scale_z=2, max_z=30, color_map=color_map)"
      ],
      "metadata": {
        "id": "FcIGEBhfC8Ks"
      },
      "execution_count": null,
      "outputs": []
    },
    {
      "cell_type": "markdown",
      "source": [
        "# 4 Camadas de convolução - 32 x 64 x 128 x 256 (3 x 3) - relu 256 (3 x )"
      ],
      "metadata": {
        "id": "5jldNJKl4edS"
      }
    },
    {
      "cell_type": "code",
      "source": [
        "# Uso de callback para reduzir o overfitting\n",
        "callback_one = EarlyStopping(patience = 40, restore_best_weights = True)\n",
        "callback_two = ReduceLROnPlateau(patience = 40)\n",
        "\n",
        "model = Sequential()\n",
        "model.add(Conv2D(32, (3, 3), input_shape = (256, 256, 1), activation = 'relu'))\n",
        "model.add(MaxPool2D((3, 3)))\n",
        "model.add(Conv2D(64, (3, 3), activation = 'relu'))\n",
        "model.add(MaxPool2D((3, 3)))\n",
        "model.add(Conv2D(128, (3, 3), activation = 'relu'))\n",
        "model.add(MaxPool2D((3, 3)))\n",
        "model.add(Dropout(0.2))\n",
        "model.add(Conv2D(256, (3, 3), activation = 'relu'))\n",
        "model.add(MaxPool2D((3, 3)))\n",
        "model.add(Dropout(0.1))\n",
        "model.add(Flatten())\n",
        "model.add(Dense(256, activation = 'relu'))\n",
        "model.add(Dense(4, activation = \"softmax\"))\n",
        "model.compile(loss=\"categorical_crossentropy\", metrics=[\"accuracy\"])\n",
        "# model.summary()\n",
        "\n",
        "history = model.fit(\n",
        "    train_dataset_loader,\n",
        "    validation_data = test_dataset_loader,\n",
        "    callbacks=[callback_one, callback_one],\n",
        "    batch_size = None,\n",
        "    epochs=50)"
      ],
      "metadata": {
        "id": "7NARL3pY4edb"
      },
      "execution_count": null,
      "outputs": []
    },
    {
      "cell_type": "code",
      "source": [
        "model.evaluate(test_dataset_loader)"
      ],
      "metadata": {
        "id": "BhUCBopb4edc"
      },
      "execution_count": null,
      "outputs": []
    },
    {
      "cell_type": "code",
      "source": [
        "plt.style.use('default')\n",
        "plt.figure(figsize=(12,10))\n",
        "plt.subplot(2,2,1)\n",
        "plt.plot(history.history['accuracy'])\n",
        "plt.plot(history.history['val_accuracy'])\n",
        "plt.title('Acurácia')\n",
        "plt.ylabel('Acurácia')\n",
        "plt.xlabel('Épocas')\n",
        "plt.legend(['Treinamento','Validação'], loc='lower right')\n",
        "plt.subplot(2,2,2)\n",
        "plt.plot(history.history['loss'])\n",
        "plt.plot(history.history['val_loss'])\n",
        "plt.title('Função de perda')\n",
        "plt.ylabel('loss')\n",
        "plt.xlabel('Época')\n",
        "plt.legend(['Treinamento','Validação'], loc='upper right')"
      ],
      "metadata": {
        "id": "M-nFXzKk4edc"
      },
      "execution_count": null,
      "outputs": []
    },
    {
      "cell_type": "code",
      "source": [
        "# Fazer previsões usando o conjunto de teste\n",
        "y_true = np.concatenate([y.numpy() for _, y in test_dataset_loader], axis=0)\n",
        "y_pred_probs = model.predict(test_dataset_loader)\n",
        "y_pred = np.argmax(y_pred_probs, axis=1)\n",
        "\n",
        "# Converter os rótulos one-hot de volta para classes numéricas\n",
        "y_true_classes = np.argmax(y_true, axis=1)\n",
        "\n",
        "# Calcular a matriz de confusão\n",
        "conf_matrix = confusion_matrix(y_true_classes, y_pred)\n",
        "\n",
        "print(\"Matriz de Confusão:\")\n",
        "print(conf_matrix)"
      ],
      "metadata": {
        "id": "Nssk7tZE4edc"
      },
      "execution_count": null,
      "outputs": []
    },
    {
      "cell_type": "code",
      "source": [
        "plt.figure(figsize=(8, 6))\n",
        "sns.heatmap(conf_matrix, annot=True, fmt='d', cmap='Blues', xticklabels=dataframe[\"Label\"].unique(),\n",
        "            yticklabels=dataframe[\"Label\"].unique())\n",
        "plt.xlabel('Predito')\n",
        "plt.ylabel('Verdadeiro')\n",
        "plt.xticks(rotation = 90)\n",
        "plt.title('Matriz de Confusão')\n",
        "plt.show()"
      ],
      "metadata": {
        "id": "hut45kXs4edd"
      },
      "execution_count": null,
      "outputs": []
    },
    {
      "cell_type": "code",
      "source": [
        "color_map = defaultdict(dict)\n",
        "color_map[Conv2D]['fill'] = 'orange'\n",
        "color_map[ZeroPadding2D]['fill'] = 'gray'\n",
        "color_map[Dropout]['fill'] = 'pink'\n",
        "color_map[MaxPool2D]['fill'] = 'red'\n",
        "color_map[Dense]['fill'] = 'green'\n",
        "color_map[Flatten]['fill'] = 'teal'\n",
        "\n",
        "visualkeras.layered_view(model, legend=True, draw_volume=False, scale_xy=1, scale_z=2, max_z=30, color_map=color_map)"
      ],
      "metadata": {
        "id": "72bnz_MhC_FW"
      },
      "execution_count": null,
      "outputs": []
    },
    {
      "cell_type": "markdown",
      "source": [
        "# 4 Camadas de convolução - 32 x 64 x 128 x 256 (3 x 3) - relu 256 (3 x )"
      ],
      "metadata": {
        "id": "kv3GZHrj75-8"
      }
    },
    {
      "cell_type": "code",
      "source": [
        "# Uso de callback para reduzir o overfitting\n",
        "callback_one = EarlyStopping(patience = 40, restore_best_weights = True)\n",
        "callback_two = ReduceLROnPlateau(patience = 40)\n",
        "\n",
        "model = Sequential()\n",
        "model.add(Conv2D(64, (3, 3), input_shape = (256, 256, 1), activation = 'relu'))\n",
        "model.add(MaxPool2D((3, 3)))\n",
        "\n",
        "model.add(Conv2D(128, (3, 3), activation = 'relu'))\n",
        "model.add(MaxPool2D((3, 3)))\n",
        "\n",
        "model.add(Conv2D(128, (3, 3), activation = 'relu'))\n",
        "model.add(MaxPool2D((3, 3)))\n",
        "\n",
        "model.add(Dropout(0.2))\n",
        "model.add(BatchNormalization(momentum=0.8))\n",
        "\n",
        "model.add(Conv2D(64, (3, 3), activation = 'relu'))\n",
        "model.add(LeakyReLU(alpha=0.2))\n",
        "model.add(MaxPool2D((1, 1)))\n",
        "\n",
        "model.add(Flatten())\n",
        "model.add(Dense(128, activation = 'relu'))\n",
        "model.add(Dense(4, activation = \"softmax\"))\n",
        "model.compile(loss=\"categorical_crossentropy\", metrics=[\"accuracy\"])\n",
        "# model.summary()\n",
        "\n",
        "history = model.fit(\n",
        "    train_dataset_loader,\n",
        "    validation_data = test_dataset_loader,\n",
        "    callbacks=[callback_one, callback_one],\n",
        "    batch_size = None,\n",
        "    epochs=50)"
      ],
      "metadata": {
        "id": "ciOc67QW75_E"
      },
      "execution_count": null,
      "outputs": []
    },
    {
      "cell_type": "code",
      "source": [
        "model.evaluate(test_dataset_loader)"
      ],
      "metadata": {
        "id": "jaDZ-c7w75_E"
      },
      "execution_count": null,
      "outputs": []
    },
    {
      "cell_type": "code",
      "source": [
        "plt.style.use('default')\n",
        "plt.figure(figsize=(12,10))\n",
        "plt.subplot(2,2,1)\n",
        "plt.plot(history.history['accuracy'])\n",
        "plt.plot(history.history['val_accuracy'])\n",
        "plt.title('Acurácia')\n",
        "plt.ylabel('Acurácia')\n",
        "plt.xlabel('Épocas')\n",
        "plt.legend(['Treinamento','Validação'], loc='lower right')\n",
        "plt.subplot(2,2,2)\n",
        "plt.plot(history.history['loss'])\n",
        "plt.plot(history.history['val_loss'])\n",
        "plt.title('Função de perda')\n",
        "plt.ylabel('loss')\n",
        "plt.xlabel('Época')\n",
        "plt.legend(['Treinamento','Validação'], loc='upper right')"
      ],
      "metadata": {
        "id": "eCOaRACs75_E"
      },
      "execution_count": null,
      "outputs": []
    },
    {
      "cell_type": "code",
      "source": [
        "# Fazer previsões usando o conjunto de teste\n",
        "y_true = np.concatenate([y.numpy() for _, y in test_dataset_loader], axis=0)\n",
        "y_pred_probs = model.predict(test_dataset_loader)\n",
        "y_pred = np.argmax(y_pred_probs, axis=1)\n",
        "\n",
        "# Converter os rótulos one-hot de volta para classes numéricas\n",
        "y_true_classes = np.argmax(y_true, axis=1)\n",
        "\n",
        "# Calcular a matriz de confusão\n",
        "conf_matrix = confusion_matrix(y_true_classes, y_pred)\n",
        "\n",
        "print(\"Matriz de Confusão:\")\n",
        "print(conf_matrix)"
      ],
      "metadata": {
        "id": "1WzjUt_W75_F"
      },
      "execution_count": null,
      "outputs": []
    },
    {
      "cell_type": "code",
      "source": [
        "plt.figure(figsize=(8, 6))\n",
        "sns.heatmap(conf_matrix, annot=True, fmt='d', cmap='Blues', xticklabels=dataframe[\"Label\"].unique(),\n",
        "            yticklabels=dataframe[\"Label\"].unique())\n",
        "plt.xlabel('Predito')\n",
        "plt.ylabel('Verdadeiro')\n",
        "plt.xticks(rotation = 90)\n",
        "plt.title('Matriz de Confusão')\n",
        "plt.show()"
      ],
      "metadata": {
        "id": "n3iAY8oc75_F"
      },
      "execution_count": null,
      "outputs": []
    },
    {
      "cell_type": "code",
      "source": [
        "color_map = defaultdict(dict)\n",
        "color_map[Conv2D]['fill'] = 'orange'\n",
        "color_map[ZeroPadding2D]['fill'] = 'gray'\n",
        "color_map[Dropout]['fill'] = 'pink'\n",
        "color_map[MaxPool2D]['fill'] = 'red'\n",
        "color_map[Dense]['fill'] = 'green'\n",
        "color_map[Flatten]['fill'] = 'teal'\n",
        "\n",
        "visualkeras.layered_view(model, legend=True, draw_volume=False, scale_xy=1, scale_z=2, max_z=30, color_map=color_map)"
      ],
      "metadata": {
        "id": "I6DztX3vDA5y"
      },
      "execution_count": null,
      "outputs": []
    },
    {
      "cell_type": "markdown",
      "source": [
        "# 5 Camadas de convolução - 64 x 128 x 128 x 128 x 128 (2 x 2)"
      ],
      "metadata": {
        "id": "1IvJqBneGfq0"
      }
    },
    {
      "cell_type": "code",
      "source": [
        "# Uso de callback para reduzir o overfitting\n",
        "callback_one = EarlyStopping(patience = 40, restore_best_weights = True)\n",
        "callback_two = ReduceLROnPlateau(patience = 40)\n",
        "\n",
        "model = Sequential()\n",
        "model.add(Conv2D(64, (2, 2), input_shape = (256, 256, 1), activation = 'relu'))\n",
        "model.add(MaxPool2D((2, 2)))\n",
        "\n",
        "model.add(Conv2D(128, (2, 2), activation = 'relu'))\n",
        "model.add(MaxPool2D((2, 2)))\n",
        "\n",
        "model.add(Conv2D(128, (2, 2), activation = 'relu'))\n",
        "model.add(MaxPool2D((2, 2)))\n",
        "\n",
        "model.add(Dropout(0.2))\n",
        "model.add(BatchNormalization(momentum=0.8))\n",
        "\n",
        "model.add(Conv2D(128, (2, 2), activation = 'relu'))\n",
        "model.add(MaxPool2D((2, 2)))\n",
        "\n",
        "model.add(Conv2D(64, (2, 2), activation = 'relu'))\n",
        "model.add(LeakyReLU(alpha=0.2))\n",
        "model.add(MaxPool2D((2, 2)))\n",
        "model.add(BatchNormalization(momentum=0.8))\n",
        "\n",
        "model.add(Flatten())\n",
        "model.add(Dense(128, activation = 'relu'))\n",
        "model.add(Dense(4, activation = \"softmax\"))\n",
        "model.compile(loss=\"categorical_crossentropy\", metrics=[\"accuracy\"])\n",
        "# model.summary()\n",
        "\n",
        "history = model.fit(\n",
        "    train_dataset_loader,\n",
        "    validation_data = test_dataset_loader,\n",
        "    callbacks=[callback_one, callback_one],\n",
        "    batch_size = None,\n",
        "    epochs=50)"
      ],
      "metadata": {
        "id": "MkcZ1NCIGfq7"
      },
      "execution_count": null,
      "outputs": []
    },
    {
      "cell_type": "code",
      "source": [
        "model.evaluate(test_dataset_loader)"
      ],
      "metadata": {
        "id": "4-O7x2qSGfq8"
      },
      "execution_count": null,
      "outputs": []
    },
    {
      "cell_type": "code",
      "source": [
        "plt.style.use('default')\n",
        "plt.figure(figsize=(12,10))\n",
        "plt.subplot(2,2,1)\n",
        "plt.plot(history.history['accuracy'])\n",
        "plt.plot(history.history['val_accuracy'])\n",
        "plt.title('Acurácia')\n",
        "plt.ylabel('Acurácia')\n",
        "plt.xlabel('Épocas')\n",
        "plt.legend(['Treinamento','Validação'], loc='lower right')\n",
        "plt.subplot(2,2,2)\n",
        "plt.plot(history.history['loss'])\n",
        "plt.plot(history.history['val_loss'])\n",
        "plt.title('Função de perda')\n",
        "plt.ylabel('loss')\n",
        "plt.xlabel('Época')\n",
        "plt.legend(['Treinamento','Validação'], loc='upper right')"
      ],
      "metadata": {
        "id": "xacJAJntGfq8"
      },
      "execution_count": null,
      "outputs": []
    },
    {
      "cell_type": "code",
      "source": [
        "# Fazer previsões usando o conjunto de teste\n",
        "y_true = np.concatenate([y.numpy() for _, y in test_dataset_loader], axis=0)\n",
        "y_pred_probs = model.predict(test_dataset_loader)\n",
        "y_pred = np.argmax(y_pred_probs, axis=1)\n",
        "\n",
        "# Converter os rótulos one-hot de volta para classes numéricas\n",
        "y_true_classes = np.argmax(y_true, axis=1)\n",
        "\n",
        "# Calcular a matriz de confusão\n",
        "conf_matrix = confusion_matrix(y_true_classes, y_pred)\n",
        "\n",
        "print(\"Matriz de Confusão:\")\n",
        "print(conf_matrix)"
      ],
      "metadata": {
        "id": "E396wiW_Gfq8"
      },
      "execution_count": null,
      "outputs": []
    },
    {
      "cell_type": "code",
      "source": [
        "plt.figure(figsize=(8, 6))\n",
        "sns.heatmap(conf_matrix, annot=True, fmt='d', cmap='Blues', xticklabels=dataframe[\"Label\"].unique(),\n",
        "            yticklabels=dataframe[\"Label\"].unique())\n",
        "plt.xlabel('Predito')\n",
        "plt.ylabel('Verdadeiro')\n",
        "plt.xticks(rotation = 90)\n",
        "plt.title('Matriz de Confusão')\n",
        "plt.show()"
      ],
      "metadata": {
        "id": "r4uIgnWsGfq8"
      },
      "execution_count": null,
      "outputs": []
    },
    {
      "cell_type": "code",
      "source": [
        "color_map = defaultdict(dict)\n",
        "color_map[Conv2D]['fill'] = 'orange'\n",
        "color_map[ZeroPadding2D]['fill'] = 'gray'\n",
        "color_map[Dropout]['fill'] = 'pink'\n",
        "color_map[MaxPool2D]['fill'] = 'red'\n",
        "color_map[Dense]['fill'] = 'green'\n",
        "color_map[Flatten]['fill'] = 'teal'\n",
        "\n",
        "visualkeras.layered_view(model, legend=True, draw_volume=False, scale_xy=1, scale_z=2, max_z=30, color_map=color_map)"
      ],
      "metadata": {
        "id": "qkfU5ymHDCPG"
      },
      "execution_count": null,
      "outputs": []
    },
    {
      "cell_type": "markdown",
      "source": [
        "# Testes"
      ],
      "metadata": {
        "id": "hQCKC5c_J7qm"
      }
    },
    {
      "cell_type": "code",
      "source": [
        "color_map = defaultdict(dict)\n",
        "color_map[Conv2D]['fill'] = 'orange'\n",
        "color_map[ZeroPadding2D]['fill'] = 'gray'\n",
        "color_map[Dropout]['fill'] = 'pink'\n",
        "color_map[MaxPool2D]['fill'] = 'red'\n",
        "color_map[Dense]['fill'] = 'green'\n",
        "color_map[Flatten]['fill'] = 'teal'\n",
        "\n",
        "visualkeras.layered_view(model, legend=True, draw_volume=False, scale_xy=1, scale_z=2, max_z=30, color_map=color_map)"
      ],
      "metadata": {
        "id": "BYKfd8DJLPfM"
      },
      "execution_count": null,
      "outputs": []
    },
    {
      "cell_type": "markdown",
      "source": [
        "# Fim"
      ],
      "metadata": {
        "id": "q_OyOFW8b50X"
      }
    }
  ],
  "metadata": {
    "accelerator": "GPU",
    "colab": {
      "provenance": [],
      "gpuType": "T4"
    },
    "kernelspec": {
      "display_name": "Python 3",
      "name": "python3"
    },
    "language_info": {
      "name": "python"
    }
  },
  "nbformat": 4,
  "nbformat_minor": 0
}